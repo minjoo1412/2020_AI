{
  "nbformat": 4,
  "nbformat_minor": 0,
  "metadata": {
    "colab": {
      "name": "과제3정답.ipynb",
      "provenance": [],
      "collapsed_sections": [],
      "include_colab_link": true
    },
    "kernelspec": {
      "name": "python3",
      "display_name": "Python 3"
    },
    "accelerator": "GPU",
    "widgets": {
      "application/vnd.jupyter.widget-state+json": {
        "ad62cccf52f549df9176bba87368bd30": {
          "model_module": "@jupyter-widgets/controls",
          "model_name": "HBoxModel",
          "state": {
            "_view_name": "HBoxView",
            "_dom_classes": [],
            "_model_name": "HBoxModel",
            "_view_module": "@jupyter-widgets/controls",
            "_model_module_version": "1.5.0",
            "_view_count": null,
            "_view_module_version": "1.5.0",
            "box_style": "",
            "layout": "IPY_MODEL_b0d948aa9f8942d1a52f931313ac7cb9",
            "_model_module": "@jupyter-widgets/controls",
            "children": [
              "IPY_MODEL_e44942f48bdd411d876d21d680ed79c6",
              "IPY_MODEL_5deaf50697234b39a80abff83d9a1f5f"
            ]
          }
        },
        "b0d948aa9f8942d1a52f931313ac7cb9": {
          "model_module": "@jupyter-widgets/base",
          "model_name": "LayoutModel",
          "state": {
            "_view_name": "LayoutView",
            "grid_template_rows": null,
            "right": null,
            "justify_content": null,
            "_view_module": "@jupyter-widgets/base",
            "overflow": null,
            "_model_module_version": "1.2.0",
            "_view_count": null,
            "flex_flow": null,
            "width": null,
            "min_width": null,
            "border": null,
            "align_items": null,
            "bottom": null,
            "_model_module": "@jupyter-widgets/base",
            "top": null,
            "grid_column": null,
            "overflow_y": null,
            "overflow_x": null,
            "grid_auto_flow": null,
            "grid_area": null,
            "grid_template_columns": null,
            "flex": null,
            "_model_name": "LayoutModel",
            "justify_items": null,
            "grid_row": null,
            "max_height": null,
            "align_content": null,
            "visibility": null,
            "align_self": null,
            "height": null,
            "min_height": null,
            "padding": null,
            "grid_auto_rows": null,
            "grid_gap": null,
            "max_width": null,
            "order": null,
            "_view_module_version": "1.2.0",
            "grid_template_areas": null,
            "object_position": null,
            "object_fit": null,
            "grid_auto_columns": null,
            "margin": null,
            "display": null,
            "left": null
          }
        },
        "e44942f48bdd411d876d21d680ed79c6": {
          "model_module": "@jupyter-widgets/controls",
          "model_name": "FloatProgressModel",
          "state": {
            "_view_name": "ProgressView",
            "style": "IPY_MODEL_e555ddac20354c92ac9811f8988253fc",
            "_dom_classes": [],
            "description": "",
            "_model_name": "FloatProgressModel",
            "bar_style": "success",
            "max": 1,
            "_view_module": "@jupyter-widgets/controls",
            "_model_module_version": "1.5.0",
            "value": 1,
            "_view_count": null,
            "_view_module_version": "1.5.0",
            "orientation": "horizontal",
            "min": 0,
            "description_tooltip": null,
            "_model_module": "@jupyter-widgets/controls",
            "layout": "IPY_MODEL_23c0dda1c8004354b4e7bedf1d210fb0"
          }
        },
        "5deaf50697234b39a80abff83d9a1f5f": {
          "model_module": "@jupyter-widgets/controls",
          "model_name": "HTMLModel",
          "state": {
            "_view_name": "HTMLView",
            "style": "IPY_MODEL_b95d6c8dd64c4c46bb6c354b5fe3afb5",
            "_dom_classes": [],
            "description": "",
            "_model_name": "HTMLModel",
            "placeholder": "​",
            "_view_module": "@jupyter-widgets/controls",
            "_model_module_version": "1.5.0",
            "value": " 170500096/? [00:07&lt;00:00, 22069648.94it/s]",
            "_view_count": null,
            "_view_module_version": "1.5.0",
            "description_tooltip": null,
            "_model_module": "@jupyter-widgets/controls",
            "layout": "IPY_MODEL_f76c60c237c4408dbe3243397c378394"
          }
        },
        "e555ddac20354c92ac9811f8988253fc": {
          "model_module": "@jupyter-widgets/controls",
          "model_name": "ProgressStyleModel",
          "state": {
            "_view_name": "StyleView",
            "_model_name": "ProgressStyleModel",
            "description_width": "initial",
            "_view_module": "@jupyter-widgets/base",
            "_model_module_version": "1.5.0",
            "_view_count": null,
            "_view_module_version": "1.2.0",
            "bar_color": null,
            "_model_module": "@jupyter-widgets/controls"
          }
        },
        "23c0dda1c8004354b4e7bedf1d210fb0": {
          "model_module": "@jupyter-widgets/base",
          "model_name": "LayoutModel",
          "state": {
            "_view_name": "LayoutView",
            "grid_template_rows": null,
            "right": null,
            "justify_content": null,
            "_view_module": "@jupyter-widgets/base",
            "overflow": null,
            "_model_module_version": "1.2.0",
            "_view_count": null,
            "flex_flow": null,
            "width": null,
            "min_width": null,
            "border": null,
            "align_items": null,
            "bottom": null,
            "_model_module": "@jupyter-widgets/base",
            "top": null,
            "grid_column": null,
            "overflow_y": null,
            "overflow_x": null,
            "grid_auto_flow": null,
            "grid_area": null,
            "grid_template_columns": null,
            "flex": null,
            "_model_name": "LayoutModel",
            "justify_items": null,
            "grid_row": null,
            "max_height": null,
            "align_content": null,
            "visibility": null,
            "align_self": null,
            "height": null,
            "min_height": null,
            "padding": null,
            "grid_auto_rows": null,
            "grid_gap": null,
            "max_width": null,
            "order": null,
            "_view_module_version": "1.2.0",
            "grid_template_areas": null,
            "object_position": null,
            "object_fit": null,
            "grid_auto_columns": null,
            "margin": null,
            "display": null,
            "left": null
          }
        },
        "b95d6c8dd64c4c46bb6c354b5fe3afb5": {
          "model_module": "@jupyter-widgets/controls",
          "model_name": "DescriptionStyleModel",
          "state": {
            "_view_name": "StyleView",
            "_model_name": "DescriptionStyleModel",
            "description_width": "",
            "_view_module": "@jupyter-widgets/base",
            "_model_module_version": "1.5.0",
            "_view_count": null,
            "_view_module_version": "1.2.0",
            "_model_module": "@jupyter-widgets/controls"
          }
        },
        "f76c60c237c4408dbe3243397c378394": {
          "model_module": "@jupyter-widgets/base",
          "model_name": "LayoutModel",
          "state": {
            "_view_name": "LayoutView",
            "grid_template_rows": null,
            "right": null,
            "justify_content": null,
            "_view_module": "@jupyter-widgets/base",
            "overflow": null,
            "_model_module_version": "1.2.0",
            "_view_count": null,
            "flex_flow": null,
            "width": null,
            "min_width": null,
            "border": null,
            "align_items": null,
            "bottom": null,
            "_model_module": "@jupyter-widgets/base",
            "top": null,
            "grid_column": null,
            "overflow_y": null,
            "overflow_x": null,
            "grid_auto_flow": null,
            "grid_area": null,
            "grid_template_columns": null,
            "flex": null,
            "_model_name": "LayoutModel",
            "justify_items": null,
            "grid_row": null,
            "max_height": null,
            "align_content": null,
            "visibility": null,
            "align_self": null,
            "height": null,
            "min_height": null,
            "padding": null,
            "grid_auto_rows": null,
            "grid_gap": null,
            "max_width": null,
            "order": null,
            "_view_module_version": "1.2.0",
            "grid_template_areas": null,
            "object_position": null,
            "object_fit": null,
            "grid_auto_columns": null,
            "margin": null,
            "display": null,
            "left": null
          }
        }
      }
    }
  },
  "cells": [
    {
      "cell_type": "markdown",
      "metadata": {
        "id": "view-in-github",
        "colab_type": "text"
      },
      "source": [
        "<a href=\"https://colab.research.google.com/github/minjoo1412/2020_AI/blob/master/%EA%B3%BC%EC%A0%9C3%EC%A0%95%EB%8B%B5.ipynb\" target=\"_parent\"><img src=\"https://colab.research.google.com/assets/colab-badge.svg\" alt=\"Open In Colab\"/></a>"
      ]
    },
    {
      "cell_type": "markdown",
      "metadata": {
        "id": "nkb7X0TbauSd"
      },
      "source": [
        "# 1번 [영상 인식] 다음 코드를 무엇을 의미하는지 이해하고 실행하여 결과를 확인하세요. (10점)\n"
      ]
    },
    {
      "cell_type": "code",
      "metadata": {
        "id": "znPVePZPasMH"
      },
      "source": [
        "import torch\n",
        "import torch.nn as nn\n",
        "import torch.nn.functional as F\n",
        "import torch.optim as optim\n",
        "from torchvision import datasets, transforms\n",
        "from torch.autograd import Variable\n",
        "import matplotlib.pyplot as plt\n",
        "%matplotlib inline\n",
        "\n",
        "#GPU의 사용여부 가능 여부 확인 --> GPU를 쓸수 있다면 is_cuda가 True로 바뀜\n",
        "in_cuda = False\n",
        "if torch.cuda.is_available():\n",
        "  is_cuda = True\n",
        "\n",
        "transformation = transforms.Compose([transforms.ToTensor(), transforms.Normalize((0.1307,), (0.3081,))])\n",
        "\n",
        "train_dataset = datasets.MNIST('data/', train=True, transform=transformation, download=True)\n",
        "test_dataset = datasets.MNIST('data/', train=False, transform=transformation, download=True)\n",
        "\n",
        "train_loader = torch.utils.data.DataLoader(train_dataset, batch_size=32, shuffle=True)\n",
        "test_loader = torch.utils.data.DataLoader(test_dataset, batch_size=32, shuffle=True)\n",
        "\n",
        "sample_data = next(iter(train_loader))\n",
        "\n",
        "def plot_img(image):\n",
        "  image = image.numpy()[0]\n",
        "  mean = 0.1307\n",
        "  std = 0.3081\n",
        "  image = ((mean * image) + std)\n",
        "  plt.imshow(image, cmap='gray')"
      ],
      "execution_count": null,
      "outputs": []
    },
    {
      "cell_type": "markdown",
      "metadata": {
        "id": "MtdJe3nHdk4f"
      },
      "source": [
        "## (1) 화면 출력 확인\n",
        "\n",
        "\n",
        "\n",
        "*   `plot_img`함수에 이미지를 받으면 해당 이미지의 0번째 배열을 가져와서 정규분포화 한 후에 그림을 보여주게 설정한다\n",
        "\n"
      ]
    },
    {
      "cell_type": "code",
      "metadata": {
        "colab": {
          "base_uri": "https://localhost:8080/",
          "height": 265
        },
        "id": "Zbt7s6xZdfTL",
        "outputId": "503a13c0-da93-47c0-c713-b9ebe284be92"
      },
      "source": [
        "plot_img(sample_data[0][2])"
      ],
      "execution_count": null,
      "outputs": [
        {
          "output_type": "display_data",
          "data": {
            "image/png": "[encoded data removed]",
            "text/plain": [
              "<Figure size 432x288 with 1 Axes>"
            ]
          },
          "metadata": {
            "tags": [],
            "needs_background": "light"
          }
        }
      ]
    },
    {
      "cell_type": "code",
      "metadata": {
        "colab": {
          "base_uri": "https://localhost:8080/",
          "height": 265
        },
        "id": "IcAdI9x-dnEL",
        "outputId": "06fd61f1-9117-4592-acd9-6d1dd931ed19"
      },
      "source": [
        "plot_img(sample_data[0][1])"
      ],
      "execution_count": null,
      "outputs": [
        {
          "output_type": "display_data",
          "data": {
            "image/png": "[encoded data removed]",
            "text/plain": [
              "<Figure size 432x288 with 1 Axes>"
            ]
          },
          "metadata": {
            "tags": [],
            "needs_background": "light"
          }
        }
      ]
    },
    {
      "cell_type": "code",
      "metadata": {
        "id": "Q9OjYwd_dojo"
      },
      "source": [
        "class Net(nn.Module):\n",
        "  def __init__(self):\n",
        "    super().__init__()\n",
        "    self.conv1 = nn.Conv2d(1, 10, kernel_size=5)\n",
        "    self.conv2 = nn.Conv2d(10, 20,kernel_size=5)\n",
        "    self.conv2_drop = nn.Dropout2d()\n",
        "    self.fc1 = nn.Linear(320, 50)\n",
        "    self.fc2 = nn.Linear(50, 10)\n",
        "\n",
        "  def forward(self, x):\n",
        "    x = F.relu(F.max_pool2d(self.conv1(x), 2))\n",
        "    x = F.relu(F.max_pool2d(self.conv2_drop(self.conv2(x)),2))\n",
        "    x = x.view(-1, 320)\n",
        "    x = F.relu(self.fc1(x))\n",
        "    #x = F.dropout(x, p=0.1, training=self.training)\n",
        "    x = self.fc2(x)\n",
        "    return F.log_softmax(x, dim=1)\n",
        "\n",
        "model = Net()\n",
        "\n",
        "#GPU를 사용할 수 있다면 모델을 GPU를 사용하여 실행함\n",
        "if is_cuda:\n",
        "  model.cuda()\n",
        "\n",
        "optimizer = optim.SGD(model.parameters(), lr=0.01)\n",
        "data, target = next(iter(train_loader))\n",
        "\n",
        "output = model(Variable(data.cuda()))"
      ],
      "execution_count": null,
      "outputs": []
    },
    {
      "cell_type": "markdown",
      "metadata": {
        "id": "NYycZszaeyHx"
      },
      "source": [
        "## (2) `output.size()`, `target.size()` 출력 확인\n",
        "\n",
        "- `output`과 `target`의 사이즈를 비교해보면 `target`은 정답인 1개의 값을 표현하기 때문에 sample의 개수와 동일한 크기의 [32]만 출력된다. 즉, 32개의 샘플에 대한 정답값만을 표현한다. 반면 `output`은 각 10개의 숫자에 대한 확률값이 출력되기 때문에 [32,10]으로 사이즈가 표현된다. 즉, 32개의 샘플에 대한 0~9까지의 숫자의 각각에 대한 확률값을 표현한다."
      ]
    },
    {
      "cell_type": "code",
      "metadata": {
        "colab": {
          "base_uri": "https://localhost:8080/"
        },
        "id": "fz6zH_jwesXN",
        "outputId": "1a690a0b-be84-46e6-ee7d-d78e8893dd52"
      },
      "source": [
        "print(output.size())\n",
        "print(target.size())"
      ],
      "execution_count": null,
      "outputs": [
        {
          "output_type": "stream",
          "text": [
            "torch.Size([32, 10])\n",
            "torch.Size([32])\n"
          ],
          "name": "stdout"
        }
      ]
    },
    {
      "cell_type": "markdown",
      "metadata": {
        "id": "5gkS92AdfGZk"
      },
      "source": [
        "## (3) 화면 출력 확인\n",
        "\n",
        "- 학습이 잘 이루어지는 것을 확인"
      ]
    },
    {
      "cell_type": "code",
      "metadata": {
        "colab": {
          "base_uri": "https://localhost:8080/"
        },
        "id": "4aWasFVFe4Hr",
        "outputId": "9eb5b712-94b1-42be-e99b-6a7591c826ce"
      },
      "source": [
        "def fit(epoch, model, data_loader, phase='training', volatile=False):\n",
        "  if phase == 'training':\n",
        "    model.train()\n",
        "  if phase == 'validation':\n",
        "    model.eval()\n",
        "    volatile=True\n",
        "  running_loss = 0.0\n",
        "  running_correct = 0\n",
        "  for batch_idx, (data, target) in enumerate(data_loader):\n",
        "    if is_cuda:\n",
        "      data, target = data.cuda(), target.cuda()\n",
        "    data, target = Variable(data, volatile), Variable(target)\n",
        "    if phase == 'training':\n",
        "      optimizer.zero_grad()\n",
        "    output = model(data)\n",
        "    loss = F.nll_loss(output, target)\n",
        "\n",
        "    running_loss += F.nll_loss(output, target, size_average=False).data\n",
        "    preds = output.data.max(dim=1, keepdim=True)[1]\n",
        "    running_correct += preds.eq(target.data.view_as(preds)).cpu().sum()\n",
        "    if phase == 'training':\n",
        "      loss.backward()\n",
        "      optimizer.step()\n",
        "\n",
        "  loss = running_loss / len(data_loader.dataset)\n",
        "  accuracy = 100. * running_correct / len(data_loader.dataset)\n",
        "\n",
        "  print(f'{phase} loss is {loss:{5}.{2}} and {phase} accuaracy is {running_correct}/{len(data_loader.dataset)}{accuracy: {10}.{4}}')\n",
        "  return loss, accuracy\n",
        "\n",
        "train_losses, train_accuracy = [], []\n",
        "val_losses, val_accuracy = [], []\n",
        "for epoch in range(1, 20):\n",
        "  epoch_loss, epoch_accuracy = fit(epoch, model, train_loader, phase='training')\n",
        "  val_epoch_loss, val_epoch_accuracy = fit(epoch, model, test_loader, phase='validation')\n",
        "  train_losses.append(epoch_loss)\n",
        "  train_accuracy.append(epoch_accuracy)\n",
        "  val_losses.append(val_epoch_loss)\n",
        "  val_accuracy.append(val_epoch_accuracy)"
      ],
      "execution_count": null,
      "outputs": [
        {
          "output_type": "stream",
          "text": [
            "/usr/local/lib/python3.6/dist-packages/torch/nn/_reduction.py:44: UserWarning: size_average and reduce args will be deprecated, please use reduction='sum' instead.\n",
            "  warnings.warn(warning.format(ret))\n"
          ],
          "name": "stderr"
        },
        {
          "output_type": "stream",
          "text": [
            "training loss is  0.59 and training accuaracy is 49140/60000      81.9\n",
            "validation loss is  0.17 and validation accuaracy is 9453/10000     94.53\n",
            "training loss is  0.22 and training accuaracy is 56248/60000     93.75\n",
            "validation loss is 0.099 and validation accuaracy is 9690/10000      96.9\n",
            "training loss is  0.16 and training accuaracy is 57158/60000     95.26\n",
            "validation loss is 0.075 and validation accuaracy is 9759/10000     97.59\n",
            "training loss is  0.13 and training accuaracy is 57571/60000     95.95\n",
            "validation loss is 0.067 and validation accuaracy is 9780/10000      97.8\n",
            "training loss is  0.12 and training accuaracy is 57906/60000     96.51\n",
            "validation loss is 0.055 and validation accuaracy is 9812/10000     98.12\n",
            "training loss is  0.11 and training accuaracy is 58109/60000     96.85\n",
            "validation loss is  0.05 and validation accuaracy is 9830/10000      98.3\n",
            "training loss is 0.097 and training accuaracy is 58300/60000     97.17\n",
            "validation loss is  0.05 and validation accuaracy is 9841/10000     98.41\n",
            "training loss is 0.091 and training accuaracy is 58369/60000     97.28\n",
            "validation loss is 0.041 and validation accuaracy is 9860/10000      98.6\n",
            "training loss is 0.087 and training accuaracy is 58450/60000     97.42\n",
            "validation loss is 0.042 and validation accuaracy is 9873/10000     98.73\n",
            "training loss is 0.081 and training accuaracy is 58565/60000     97.61\n",
            "validation loss is 0.041 and validation accuaracy is 9864/10000     98.64\n",
            "training loss is 0.077 and training accuaracy is 58626/60000     97.71\n",
            "validation loss is 0.035 and validation accuaracy is 9876/10000     98.76\n",
            "training loss is 0.074 and training accuaracy is 58682/60000      97.8\n",
            "validation loss is 0.036 and validation accuaracy is 9874/10000     98.74\n",
            "training loss is 0.072 and training accuaracy is 58708/60000     97.85\n",
            "validation loss is 0.037 and validation accuaracy is 9880/10000      98.8\n",
            "training loss is 0.067 and training accuaracy is 58807/60000     98.01\n",
            "validation loss is 0.032 and validation accuaracy is 9891/10000     98.91\n",
            "training loss is 0.067 and training accuaracy is 58806/60000     98.01\n",
            "validation loss is 0.032 and validation accuaracy is 9893/10000     98.93\n",
            "training loss is 0.064 and training accuaracy is 58811/60000     98.02\n",
            "validation loss is 0.031 and validation accuaracy is 9892/10000     98.92\n",
            "training loss is 0.063 and training accuaracy is 58861/60000      98.1\n",
            "validation loss is 0.031 and validation accuaracy is 9901/10000     99.01\n",
            "training loss is  0.06 and training accuaracy is 58918/60000      98.2\n",
            "validation loss is 0.032 and validation accuaracy is 9894/10000     98.94\n",
            "training loss is 0.057 and training accuaracy is 58949/60000     98.25\n",
            "validation loss is 0.031 and validation accuaracy is 9899/10000     98.99\n"
          ],
          "name": "stdout"
        }
      ]
    },
    {
      "cell_type": "markdown",
      "metadata": {
        "id": "gEJGump3fDa1"
      },
      "source": [
        "## (4) 화면 출력 확인\n",
        "- `training loss`와 `validation loss` 모두 잘 줄어드는 것을 확인할 수 있음"
      ]
    },
    {
      "cell_type": "code",
      "metadata": {
        "colab": {
          "base_uri": "https://localhost:8080/",
          "height": 282
        },
        "id": "zx3FVv4oe-FG",
        "outputId": "da5ad537-99b5-4605-d509-8be8e172c2f3"
      },
      "source": [
        "plt.plot(range(1, len(train_losses) + 1), train_losses, 'bo', label='training loss')\n",
        "plt.plot(range(1, len(val_losses) + 1), val_losses, 'r', label='validation loss')\n",
        "plt.legend()"
      ],
      "execution_count": null,
      "outputs": [
        {
          "output_type": "execute_result",
          "data": {
            "text/plain": [
              "<matplotlib.legend.Legend at 0x7fe01b44d438>"
            ]
          },
          "metadata": {
            "tags": []
          },
          "execution_count": 9
        },
        {
          "output_type": "display_data",
          "data": {
            "image/png": "[encoded data removed]",
            "text/plain": [
              "<Figure size 432x288 with 1 Axes>"
            ]
          },
          "metadata": {
            "tags": [],
            "needs_background": "light"
          }
        }
      ]
    },
    {
      "cell_type": "markdown",
      "metadata": {
        "id": "NBFsMh9pfLGX"
      },
      "source": [
        "## (5) 화면 출력 확인\n",
        "\n",
        "- `train accuracy`와 `val accuracy` 모두 점차 올라가는 것을 확인할 수 있음"
      ]
    },
    {
      "cell_type": "code",
      "metadata": {
        "colab": {
          "base_uri": "https://localhost:8080/",
          "height": 282
        },
        "id": "-B5F8Gf1fKW1",
        "outputId": "59f6bcf4-6ae5-425b-cdc1-337af5b76728"
      },
      "source": [
        "plt.plot(range(1, len(train_accuracy) + 1), train_accuracy, 'bo', label='train accuracy')\n",
        "plt.plot(range(1, len(val_accuracy) + 1), val_accuracy, 'r', label='val accuracy')\n",
        "plt.legend()"
      ],
      "execution_count": null,
      "outputs": [
        {
          "output_type": "execute_result",
          "data": {
            "text/plain": [
              "<matplotlib.legend.Legend at 0x7fe01b5aceb8>"
            ]
          },
          "metadata": {
            "tags": []
          },
          "execution_count": 10
        },
        {
          "output_type": "display_data",
          "data": {
            "image/png": "[encoded data removed]",
            "text/plain": [
              "<Figure size 432x288 with 1 Axes>"
            ]
          },
          "metadata": {
            "tags": [],
            "needs_background": "light"
          }
        }
      ]
    },
    {
      "cell_type": "markdown",
      "metadata": {
        "id": "Db8w0WQlfP3J"
      },
      "source": [
        "# 2. [CNN] 다음 코드를 무엇을 의미하는지 이해하고 실행하여 결과를 확인하세요. (10점)"
      ]
    },
    {
      "cell_type": "markdown",
      "metadata": {
        "id": "qwUNZPGifVzX"
      },
      "source": [
        "## (1) 정의된 컨볼루션 신경망의 구조 설명\n",
        "\n",
        "* 총 2개의 conv layer와 3개의 fully connected layer로 구성\n",
        "* conv layer 이후 activation function으로는 ReLU를 사용하고,그 후 maxpooling을 (2,2) kernel size로, conv - ReLU - pool 순서로 수행"
      ]
    },
    {
      "cell_type": "code",
      "metadata": {
        "colab": {
          "base_uri": "https://localhost:8080/"
        },
        "id": "piht1ggVfShX",
        "outputId": "7a2c93c4-4551-4ec9-b83c-747e9763d410"
      },
      "source": [
        "import torch\n",
        "import torch.nn as nn\n",
        "import torch.nn.functional as F\n",
        "\n",
        "class Net(nn.Module):\n",
        "  def __init__(self):\n",
        "    super(Net,self).__init__()\n",
        "    #1 input image channel, 6 output channels, 5*5 square conv. kernel\n",
        "    self.conv1 = nn.Conv2d(1, 6, 5)\n",
        "    self.conv2 = nn.Conv2d(6, 16, 5)\n",
        "\n",
        "    #an affine operation: y = Wx + b\n",
        "    self.fc1 = nn.Linear(16*5*5, 120)\n",
        "    self.fc2 = nn.Linear(120, 84)\n",
        "    self.fc3 = nn.Linear(84, 10)\n",
        "\n",
        "  def forward(self, x):\n",
        "    #Max pooling over a (2, 2) window\n",
        "    x = F.max_pool2d(F.relu(self.conv1(x)), (2, 2))\n",
        "    x = F.max_pool2d(F.relu(self.conv2(x)), 2)\n",
        "    x = x.view(-1, self.num_flat_features(x))\n",
        "    x = F.relu(self.fc1(x))\n",
        "    x = F.relu(self.fc2(x))\n",
        "    x = self.fc3(x)\n",
        "    return x\n",
        "\n",
        "  def num_flat_features(self, x):\n",
        "    size = x.size()[1:]\n",
        "    num_features = 1\n",
        "    for s in size:\n",
        "      num_features *= s\n",
        "    return num_features\n",
        "\n",
        "net = Net()\n",
        "print(net)"
      ],
      "execution_count": null,
      "outputs": [
        {
          "output_type": "stream",
          "text": [
            "Net(\n",
            "  (conv1): Conv2d(1, 6, kernel_size=(5, 5), stride=(1, 1))\n",
            "  (conv2): Conv2d(6, 16, kernel_size=(5, 5), stride=(1, 1))\n",
            "  (fc1): Linear(in_features=400, out_features=120, bias=True)\n",
            "  (fc2): Linear(in_features=120, out_features=84, bias=True)\n",
            "  (fc3): Linear(in_features=84, out_features=10, bias=True)\n",
            ")\n"
          ],
          "name": "stdout"
        }
      ]
    },
    {
      "cell_type": "markdown",
      "metadata": {
        "id": "IVZR8PhHfZgJ"
      },
      "source": [
        "## (2) 화면 출력 확인\n",
        "\n",
        "- `net.parameters()`를 사용하여 정의된 신경망의 학습 가능한 매개변수들을 확인할 수 있음\n",
        "- `params[0].size()`는 conv1의 가중치를 의미\n"
      ]
    },
    {
      "cell_type": "code",
      "metadata": {
        "colab": {
          "base_uri": "https://localhost:8080/"
        },
        "id": "uML9gjx5fbBh",
        "outputId": "a8e35223-409d-454e-9aaf-c68caa32d559"
      },
      "source": [
        "params = list(net.parameters())\n",
        "print(len(params))\n",
        "print(params[0].size())"
      ],
      "execution_count": null,
      "outputs": [
        {
          "output_type": "stream",
          "text": [
            "10\n",
            "torch.Size([6, 1, 5, 5])\n"
          ],
          "name": "stdout"
        }
      ]
    },
    {
      "cell_type": "markdown",
      "metadata": {
        "id": "ZVIj67kwfdbf"
      },
      "source": [
        "## (3) 화면 출력 확인\n",
        "\n",
        "- 임의의 크기가 1 * 32 * 32의 입력값을 주었을 때의 결과 값"
      ]
    },
    {
      "cell_type": "code",
      "metadata": {
        "colab": {
          "base_uri": "https://localhost:8080/"
        },
        "id": "N0-ClBdaffr9",
        "outputId": "955397a8-0596-4f12-988d-a62a7e5f2e7a"
      },
      "source": [
        "input = torch.randn(1, 1, 32, 32)\n",
        "out = net(input)\n",
        "print(out)"
      ],
      "execution_count": null,
      "outputs": [
        {
          "output_type": "stream",
          "text": [
            "tensor([[ 0.0059,  0.0323, -0.1355,  0.0753, -0.0538,  0.0406,  0.0294,  0.0379,\n",
            "          0.0111,  0.0031]], grad_fn=<AddmmBackward>)\n"
          ],
          "name": "stdout"
        }
      ]
    },
    {
      "cell_type": "markdown",
      "metadata": {
        "id": "TBAoFG0cfnTa"
      },
      "source": [
        "## (4) 화면 출력 확인\n",
        "- `zero_grad()` 를 사용해서 그레디언트를 초기화한 후 역전파를 진행\n",
        "- `target`과 비교해서 `MSELoss`를 구한 결과"
      ]
    },
    {
      "cell_type": "code",
      "metadata": {
        "colab": {
          "base_uri": "https://localhost:8080/"
        },
        "id": "LYtFnB1bfj2Q",
        "outputId": "5de6f95e-6e09-4bed-9ec5-fe877f1ae215"
      },
      "source": [
        "net.zero_grad()\n",
        "out.backward(torch.randn(1, 10))\n",
        "\n",
        "output = net(input)\n",
        "target = torch.randn(10)\n",
        "target = target.view(1, -1)\n",
        "criterion = nn.MSELoss()\n",
        "\n",
        "loss = criterion(output,target)\n",
        "print(loss)"
      ],
      "execution_count": null,
      "outputs": [
        {
          "output_type": "stream",
          "text": [
            "tensor(0.8172, grad_fn=<MseLossBackward>)\n"
          ],
          "name": "stdout"
        }
      ]
    },
    {
      "cell_type": "markdown",
      "metadata": {
        "id": "AoKAVnNGfulZ"
      },
      "source": [
        "## (5) backward 전, 후 화면 출력 확인\n",
        "- 그레디언트를 0으로 초기화한 후 `backward`이전의 `bias`에 대한 그레디언트를 확인 --> 모두 0 값\n",
        "- `backward()`를 진행한 후의 그레디언트 값"
      ]
    },
    {
      "cell_type": "code",
      "metadata": {
        "colab": {
          "base_uri": "https://localhost:8080/"
        },
        "id": "l64evX32fx-M",
        "outputId": "2b57ffa2-94a5-4d5e-8c93-d4007b13cfa2"
      },
      "source": [
        "net.zero_grad()\n",
        "\n",
        "print('conv1.bias.grad before backward')\n",
        "print(net.conv1.bias.grad)\n",
        "\n",
        "loss.backward()\n",
        "\n",
        "print('conv1.bias after backward')\n",
        "print(net.conv1.bias.grad)"
      ],
      "execution_count": null,
      "outputs": [
        {
          "output_type": "stream",
          "text": [
            "conv1.bias.grad before backward\n",
            "tensor([0., 0., 0., 0., 0., 0.])\n",
            "conv1.bias after backward\n",
            "tensor([-0.0116, -0.0006, -0.0081, -0.0002,  0.0068, -0.0164])\n"
          ],
          "name": "stdout"
        }
      ]
    },
    {
      "cell_type": "code",
      "metadata": {
        "id": "Y_sNnWZ7f7Q-"
      },
      "source": [
        "learning_rate = 0.01\n",
        "for f in net.parameters():\n",
        "  f.data.sub_(f.grad.data * learning_rate)\n",
        "\n",
        "import torch.optim as optim\n",
        "\n",
        "optimizer = optim.SGD(net.parameters(), lr=0.01)\n",
        "\n",
        "optimizer.zero_grad()\n",
        "output = net(input)\n",
        "loss = criterion(output, target)\n",
        "loss.backward()\n",
        "optimizer.step()"
      ],
      "execution_count": null,
      "outputs": []
    },
    {
      "cell_type": "markdown",
      "metadata": {
        "id": "0RmAt9FGf_7_"
      },
      "source": [
        "# 3. [분류기 학습] 다음 코드를 무엇을 의미하는지 이해하고 실행하여 결과를 확인하세요. (14점)"
      ]
    },
    {
      "cell_type": "markdown",
      "metadata": {
        "id": "i-5fgIfogEEu"
      },
      "source": [
        "## (1) 화면 출력 확인"
      ]
    },
    {
      "cell_type": "code",
      "metadata": {
        "colab": {
          "base_uri": "https://localhost:8080/",
          "height": 120,
          "referenced_widgets": [
            "ad62cccf52f549df9176bba87368bd30",
            "b0d948aa9f8942d1a52f931313ac7cb9",
            "e44942f48bdd411d876d21d680ed79c6",
            "5deaf50697234b39a80abff83d9a1f5f",
            "e555ddac20354c92ac9811f8988253fc",
            "23c0dda1c8004354b4e7bedf1d210fb0",
            "b95d6c8dd64c4c46bb6c354b5fe3afb5",
            "f76c60c237c4408dbe3243397c378394"
          ]
        },
        "id": "3VH8ajSCgB9n",
        "outputId": "aa4834b5-28a4-4e2a-bea2-15a82e76955b"
      },
      "source": [
        "import torch\n",
        "import torchvision\n",
        "import torchvision.transforms as transforms\n",
        "\n",
        "transform = transforms.Compose([transforms.ToTensor(), transforms.Normalize((0.5, 0.5, 0.5), (0.5, 0.5, 0.5))])\n",
        "\n",
        "trainset = torchvision.datasets.CIFAR10(root='./data', train=True, download=True, transform=transform)\n",
        "trainloader = torch.utils.data.DataLoader(trainset, batch_size=4, shuffle=True, num_workers=2)\n",
        "\n",
        "testset = torchvision.datasets.CIFAR10(root='./data', train=False, download=True, transform=transform)\n",
        "testloader = torch.utils.data.DataLoader(testset, batch_size=4, shuffle=False, num_workers=2)\n",
        "\n",
        "classes = ('plane', 'car', 'bird', 'cat', 'deer', 'dog','frog', 'horse', 'ship', 'truck')"
      ],
      "execution_count": null,
      "outputs": [
        {
          "output_type": "stream",
          "text": [
            "Downloading https://www.cs.toronto.edu/~kriz/cifar-10-python.tar.gz to ./data/cifar-10-python.tar.gz\n"
          ],
          "name": "stdout"
        },
        {
          "output_type": "display_data",
          "data": {
            "application/vnd.jupyter.widget-view+json": {
              "model_id": "ad62cccf52f549df9176bba87368bd30",
              "version_minor": 0,
              "version_major": 2
            },
            "text/plain": [
              "HBox(children=(FloatProgress(value=1.0, bar_style='info', max=1.0), HTML(value='')))"
            ]
          },
          "metadata": {
            "tags": []
          }
        },
        {
          "output_type": "stream",
          "text": [
            "Extracting ./data/cifar-10-python.tar.gz to ./data\n",
            "Files already downloaded and verified\n"
          ],
          "name": "stdout"
        }
      ]
    },
    {
      "cell_type": "markdown",
      "metadata": {
        "id": "JFLnWivJgJP3"
      },
      "source": [
        "## (2) 화면 출력 확인"
      ]
    },
    {
      "cell_type": "code",
      "metadata": {
        "colab": {
          "base_uri": "https://localhost:8080/",
          "height": 172
        },
        "id": "nSVoZhFlgJyf",
        "outputId": "d60ab305-fed4-4dd0-b35b-c5471467dfd1"
      },
      "source": [
        "import matplotlib.pyplot as plt\n",
        "import numpy as np\n",
        "\n",
        "def imshow(img):\n",
        "  img = img / 2 + 0.5\n",
        "  npimg = img.numpy()\n",
        "  plt.imshow(np.transpose(npimg, (1, 2, 0)))\n",
        "\n",
        "dataiter = iter(trainloader)\n",
        "images, labels = dataiter.next()\n",
        "\n",
        "imshow(torchvision.utils.make_grid(images))\n",
        "\n",
        "print(''.join('%5s ' % classes[labels[j]] for j in range(4)))"
      ],
      "execution_count": null,
      "outputs": [
        {
          "output_type": "stream",
          "text": [
            " ship truck   cat horse \n"
          ],
          "name": "stdout"
        },
        {
          "output_type": "display_data",
          "data": {
            "image/png": "[encoded data removed]",
            "text/plain": [
              "<Figure size 432x288 with 1 Axes>"
            ]
          },
          "metadata": {
            "tags": [],
            "needs_background": "light"
          }
        },
        {
          "output_type": "stream",
          "text": [
            "\n"
          ],
          "name": "stdout"
        }
      ]
    },
    {
      "cell_type": "code",
      "metadata": {
        "id": "TVjRe9nVgXk0"
      },
      "source": [
        "import torch.nn as nn\n",
        "import torch.nn.functional as F\n",
        "\n",
        "class Net(nn.Module):\n",
        "  def __init__(self):\n",
        "    super(Net, self).__init__()\n",
        "    self.conv1 = nn.Conv2d(3, 6, 5)\n",
        "    self.pool = nn.MaxPool2d(2, 2)\n",
        "    self.conv2 = nn.Conv2d(6, 16, 5)\n",
        "    self.fc1 = nn.Linear(16 * 5 * 5, 120)\n",
        "    self.fc2 = nn.Linear(120, 84)\n",
        "    self.fc3 = nn.Linear(84, 10)\n",
        "\n",
        "  def forward(self, x):\n",
        "    x = self.pool(F.relu(self.conv1(x)))\n",
        "    x = self.pool(F.relu(self.conv2(x)))\n",
        "    x = x.view(-1, 16 * 5 * 5)\n",
        "    x = F.relu(self.fc1(x))\n",
        "    x = F.relu(self.fc2(x))\n",
        "    x = self.fc3(x)\n",
        "    return x\n",
        "\n",
        "net = Net()"
      ],
      "execution_count": null,
      "outputs": []
    },
    {
      "cell_type": "markdown",
      "metadata": {
        "id": "k2wirj5igd2N"
      },
      "source": [
        "## (3) 화면 출력 확인 및 학습이 되고 있는지 서술\n",
        "\n",
        "- `loss`가 점차 줄어드는 것을 확인할 수 있음"
      ]
    },
    {
      "cell_type": "code",
      "metadata": {
        "colab": {
          "base_uri": "https://localhost:8080/"
        },
        "id": "FilX6x0bgbvl",
        "outputId": "753af4fe-6c9e-4416-a601-e73882b2f424"
      },
      "source": [
        "#3.손실함수 정의, 교차 엔트로피와 SGD + momentum\n",
        "import torch.optim as optim\n",
        "\n",
        "criterion = nn.CrossEntropyLoss()\n",
        "optimizer = optim.SGD(net.parameters(), lr=0.001, momentum=0.9)\n",
        "\n",
        "#훈련집합을 이용하여 신경망을 학습시킴\n",
        "for epoch in range(5):\n",
        "  running_loss = 0.0\n",
        "  for i, data in enumerate(trainloader, 0):\n",
        "    #get the inputs\n",
        "    inputs, labels = data\n",
        "\n",
        "    #zero the parameter gradients\n",
        "    optimizer.zero_grad()\n",
        "    #forward + backward + optimize\n",
        "    outputs = net(inputs)\n",
        "    loss = criterion(outputs, labels)\n",
        "    loss.backward()\n",
        "    optimizer.step()\n",
        "\n",
        "    #print statistics\n",
        "    running_loss += loss.item()\n",
        "    if i % 1000 == 999:   #print every 1000 mini-batches\n",
        "      print('[%d, %5d] loss: %.3f' % (epoch + 1, i + 1, running_loss / 1000))\n",
        "      running_loss = 0.0\n",
        "print('Finished Training')"
      ],
      "execution_count": null,
      "outputs": [
        {
          "output_type": "stream",
          "text": [
            "[1,  1000] loss: 2.296\n",
            "[1,  2000] loss: 2.153\n",
            "[1,  3000] loss: 1.941\n",
            "[1,  4000] loss: 1.785\n",
            "[1,  5000] loss: 1.691\n",
            "[1,  6000] loss: 1.648\n",
            "[1,  7000] loss: 1.599\n",
            "[1,  8000] loss: 1.539\n",
            "[1,  9000] loss: 1.551\n",
            "[1, 10000] loss: 1.492\n",
            "[1, 11000] loss: 1.468\n",
            "[1, 12000] loss: 1.487\n",
            "[2,  1000] loss: 1.407\n",
            "[2,  2000] loss: 1.388\n",
            "[2,  3000] loss: 1.392\n",
            "[2,  4000] loss: 1.349\n",
            "[2,  5000] loss: 1.364\n",
            "[2,  6000] loss: 1.367\n",
            "[2,  7000] loss: 1.357\n",
            "[2,  8000] loss: 1.340\n",
            "[2,  9000] loss: 1.285\n",
            "[2, 10000] loss: 1.314\n",
            "[2, 11000] loss: 1.287\n",
            "[2, 12000] loss: 1.283\n",
            "[3,  1000] loss: 1.225\n",
            "[3,  2000] loss: 1.214\n",
            "[3,  3000] loss: 1.235\n",
            "[3,  4000] loss: 1.228\n",
            "[3,  5000] loss: 1.221\n",
            "[3,  6000] loss: 1.217\n",
            "[3,  7000] loss: 1.201\n",
            "[3,  8000] loss: 1.212\n",
            "[3,  9000] loss: 1.210\n",
            "[3, 10000] loss: 1.197\n",
            "[3, 11000] loss: 1.191\n",
            "[3, 12000] loss: 1.185\n",
            "[4,  1000] loss: 1.117\n",
            "[4,  2000] loss: 1.118\n",
            "[4,  3000] loss: 1.109\n",
            "[4,  4000] loss: 1.131\n",
            "[4,  5000] loss: 1.099\n",
            "[4,  6000] loss: 1.126\n",
            "[4,  7000] loss: 1.166\n",
            "[4,  8000] loss: 1.137\n",
            "[4,  9000] loss: 1.143\n",
            "[4, 10000] loss: 1.137\n",
            "[4, 11000] loss: 1.111\n",
            "[4, 12000] loss: 1.091\n",
            "[5,  1000] loss: 1.042\n",
            "[5,  2000] loss: 1.054\n",
            "[5,  3000] loss: 1.030\n",
            "[5,  4000] loss: 1.044\n",
            "[5,  5000] loss: 1.056\n",
            "[5,  6000] loss: 1.063\n",
            "[5,  7000] loss: 1.080\n",
            "[5,  8000] loss: 1.069\n",
            "[5,  9000] loss: 1.069\n",
            "[5, 10000] loss: 1.067\n",
            "[5, 11000] loss: 1.073\n",
            "[5, 12000] loss: 1.077\n",
            "Finished Training\n"
          ],
          "name": "stdout"
        }
      ]
    },
    {
      "cell_type": "markdown",
      "metadata": {
        "id": "cYV2F4arghpg"
      },
      "source": [
        "## (4) 화면 출력 확인\n",
        "- `testloader`를 사용해서 정답 값 출력"
      ]
    },
    {
      "cell_type": "code",
      "metadata": {
        "colab": {
          "base_uri": "https://localhost:8080/",
          "height": 155
        },
        "id": "rpoLQXabggPi",
        "outputId": "5f9c8b9c-3363-4c9d-c68a-b2597f581984"
      },
      "source": [
        "#5. 테스트 집합을 이용하여 신경망 성능 확인\n",
        "dataiter = iter(testloader)\n",
        "images, labels = dataiter.next()\n",
        "\n",
        "#print images\n",
        "imshow(torchvision.utils.make_grid(images))\n",
        "print('GroundTruth:', ''.join('%5s ' % classes[labels[j]] for j in range(4)))"
      ],
      "execution_count": null,
      "outputs": [
        {
          "output_type": "stream",
          "text": [
            "GroundTruth:   cat  ship  ship plane \n"
          ],
          "name": "stdout"
        },
        {
          "output_type": "display_data",
          "data": {
            "image/png": "[encoded data removed]",
            "text/plain": [
              "<Figure size 432x288 with 1 Axes>"
            ]
          },
          "metadata": {
            "tags": [],
            "needs_background": "light"
          }
        }
      ]
    },
    {
      "cell_type": "markdown",
      "metadata": {
        "id": "8PUamSUiglr5"
      },
      "source": [
        "## (5) 화면 출력 확인\n",
        "- `net.eval()`을 사용한 학습한 모델에 대한 예측 값"
      ]
    },
    {
      "cell_type": "code",
      "metadata": {
        "colab": {
          "base_uri": "https://localhost:8080/"
        },
        "id": "oR7kEg5TglQv",
        "outputId": "a05c9389-e5ec-4e0a-c204-1e2803f7fda7"
      },
      "source": [
        "net.eval()\n",
        "outputs = net(images)\n",
        "_, predicted = torch.max(outputs, 1)\n",
        "print('Predicted:', ''.join('%5s ' % classes[predicted[j]] for j in range(4)))"
      ],
      "execution_count": null,
      "outputs": [
        {
          "output_type": "stream",
          "text": [
            "Predicted:   cat  ship   car plane \n"
          ],
          "name": "stdout"
        }
      ]
    },
    {
      "cell_type": "markdown",
      "metadata": {
        "id": "tmWAL98ygvY5"
      },
      "source": [
        "## (6) 화면 출력 확인 및 일반화 성능 서술\n",
        "- 테스트 데이터를 사용한 정확도 출력"
      ]
    },
    {
      "cell_type": "code",
      "metadata": {
        "colab": {
          "base_uri": "https://localhost:8080/"
        },
        "id": "kXpPA5l0gu7r",
        "outputId": "2a9c5ec4-be85-4be1-ed47-a397093d2ac7"
      },
      "source": [
        "#performance on the whole test dataset\n",
        "correct = 0\n",
        "total= 0\n",
        "with torch.no_grad():\n",
        "  for data in testloader:\n",
        "    images, labels = data\n",
        "    outputs = net(images)\n",
        "    _, predicted = torch.max(outputs.data, 1)\n",
        "    total += labels.size(0)\n",
        "    correct += (predicted == labels).sum().item()\n",
        "print('Accuracy of the network on the 10000 test images: %d %%' % (100 * correct / total))"
      ],
      "execution_count": null,
      "outputs": [
        {
          "output_type": "stream",
          "text": [
            "Accuracy of the network on the 10000 test images: 51 %\n"
          ],
          "name": "stdout"
        }
      ]
    },
    {
      "cell_type": "markdown",
      "metadata": {
        "id": "c2SwEoQPg1lT"
      },
      "source": [
        "## (7) 화면 출력 확인 및 부류별 분류기의 성능 서술\n",
        "- 각 클래스별 정답률"
      ]
    },
    {
      "cell_type": "code",
      "metadata": {
        "colab": {
          "base_uri": "https://localhost:8080/"
        },
        "id": "5b2glCwwg1Wg",
        "outputId": "e810ccbf-1d38-4482-bba9-3079d82b7067"
      },
      "source": [
        "#performance on each class\n",
        "class_correct = list(0. for i in range(10))\n",
        "class_total = list(0.for i in range(10))\n",
        "with torch.no_grad():\n",
        "  for data in testloader:\n",
        "    images, labels = data\n",
        "    outputs = net(images)\n",
        "    _, predicted = torch.max(outputs, 1)\n",
        "    c = (predicted == labels).squeeze()\n",
        "    for i in range(4):\n",
        "      label = labels[i]\n",
        "      class_correct[label] += c[i].item()\n",
        "      class_total[label] += 1\n",
        "\n",
        "for i in range(10):\n",
        "  print('Accuracy of %5s: %2d %%' % (classes[i], 100 * class_correct[i] / class_total[i]))"
      ],
      "execution_count": null,
      "outputs": [
        {
          "output_type": "stream",
          "text": [
            "Accuracy of plane: 62 %\n",
            "Accuracy of   car: 86 %\n",
            "Accuracy of  bird: 30 %\n",
            "Accuracy of   cat: 34 %\n",
            "Accuracy of  deer: 34 %\n",
            "Accuracy of   dog: 35 %\n",
            "Accuracy of  frog: 61 %\n",
            "Accuracy of horse: 57 %\n",
            "Accuracy of  ship: 74 %\n",
            "Accuracy of truck: 41 %\n"
          ],
          "name": "stdout"
        }
      ]
    },
    {
      "cell_type": "markdown",
      "metadata": {
        "id": "E80b6cAYg6VD"
      },
      "source": [
        "# 4 - (a) 10개 5*5필터들을 보폭 1과 덧대기 2로 적용하였 을 때 출력의 크기와 매개변수의 수를 구하세요 (3점)"
      ]
    },
    {
      "cell_type": "code",
      "metadata": {
        "colab": {
          "base_uri": "https://localhost:8080/"
        },
        "id": "QRpGLcm4g5i5",
        "outputId": "d4c33f82-d5c5-42e2-b971-9722a8c58d7e"
      },
      "source": [
        "#입력 크기가 32*32*3이고 10개의 5*5 필터들을 보폭 1과 덧대기 2로\n",
        "#적용하였을 때의 출력 크키와 매개변수의 수\n",
        "import torch\n",
        "import torch.nn as nn\n",
        "import torch.nn.functional as F\n",
        "\n",
        "class Net1(nn.Module):\n",
        "  def __init__(self):\n",
        "    super(Net1, self).__init__()\n",
        "    self.conv1 = nn.Conv2d(3, 10, 5, padding=2)\n",
        "  def forward(self, x):\n",
        "    x = self.conv1(x)\n",
        "    return x\n",
        "  \n",
        "net = Net1()\n",
        "print(net)\n",
        "input = torch.randn(1, 3, 32, 32)\n",
        "output = net(input)\n",
        "print(output.size())\n",
        "\n",
        "#전체 매개변수의  --> ((K * K * inp_ch) * out_ch) + out_ch\n",
        "print(\"전체 매개변수의 개수는\", ((5 * 5 * 3) * 10) + 10)"
      ],
      "execution_count": null,
      "outputs": [
        {
          "output_type": "stream",
          "text": [
            "Net1(\n",
            "  (conv1): Conv2d(3, 10, kernel_size=(5, 5), stride=(1, 1), padding=(2, 2))\n",
            ")\n",
            "torch.Size([1, 10, 32, 32])\n",
            "전체 매개변수의 개수는 760\n"
          ],
          "name": "stdout"
        }
      ]
    },
    {
      "cell_type": "markdown",
      "metadata": {
        "id": "f1NvFilrhPOj"
      },
      "source": [
        "# 4 - (b) 동일한 입력에 64개 3*3필터들을 보폭 1과 덧대기 1로 적용하였을 때 출력의 크기와 매개변수의 수도 구하세요 (3점)"
      ]
    },
    {
      "cell_type": "code",
      "metadata": {
        "colab": {
          "base_uri": "https://localhost:8080/"
        },
        "id": "wPpDwehChONB",
        "outputId": "6d9e0de0-a0e9-4fd2-c22d-7c592e3b9915"
      },
      "source": [
        "#동일한 입력에 64개 3*3필터들을 보폭 1과 덧대기 1로 적용하였을때\n",
        "#출력의 크기와 매개변수의 수\n",
        "import torch\n",
        "import torch.nn as nn\n",
        "import torch.nn.functional as F\n",
        "\n",
        "class Net2(nn.Module):\n",
        "  def __init__(self):\n",
        "    super(Net2, self).__init__()\n",
        "    self.conv1 = nn.Conv2d(3, 64, 3, 1, padding=1)\n",
        "  def forward(self, x):\n",
        "    x = self.conv1(x)\n",
        "    return x\n",
        "\n",
        "net = Net2()\n",
        "print(net)\n",
        "input = torch.randn(1, 3, 32, 32)\n",
        "output = net(input)\n",
        "print(output.size())\n",
        "\n",
        "#전체 매개변수의 개수\n",
        "print(\"전체 매개변수의 수는\", (3*3*3)*64 + 64)"
      ],
      "execution_count": null,
      "outputs": [
        {
          "output_type": "stream",
          "text": [
            "Net2(\n",
            "  (conv1): Conv2d(3, 64, kernel_size=(3, 3), stride=(1, 1), padding=(1, 1))\n",
            ")\n",
            "torch.Size([1, 64, 32, 32])\n",
            "전체 매개변수의 수는 1792\n"
          ],
          "name": "stdout"
        }
      ]
    },
    {
      "cell_type": "markdown",
      "metadata": {
        "id": "MCQCTTcotb77"
      },
      "source": [
        "# 5. 다음 조건을 만족하는 컨볼루션 신경망을 구현하고, 3 번의 (3), (6), (7)의 성능 결과를 확인하고 비교하세요. (60 점)"
      ]
    },
    {
      "cell_type": "markdown",
      "metadata": {
        "id": "s6SD39iYtfIy"
      },
      "source": [
        "## (1) `INPUT-CONV(output_channel=32, kernel_size=3*3)-CONV(32,3*3)-RELU-POOL- CONV(32,3*3)-CONV(32, 3*3)-RELU-MAXPOOL-FC-OUTPUT` (10 점)\n"
      ]
    },
    {
      "cell_type": "code",
      "metadata": {
        "id": "X2ifZeFnhcAc"
      },
      "source": [
        "import torch\n",
        "import torch.nn as nn\n",
        "import torch.nn.functional as F\n",
        "\n",
        "class Net3(nn.Module):\n",
        "  def __init__(self):\n",
        "    super(Net3, self).__init__()\n",
        "    self.conv1 = nn.Conv2d(3, 32, 3)\n",
        "    self.conv2 = nn.Conv2d(32, 32, 3)\n",
        "    self.relu = nn.ReLU()\n",
        "    self.pool = nn.MaxPool2d(2, 2)\n",
        "    self.fc1 = nn.Linear(32 * 5 * 5, 120)\n",
        "    self.fc2 = nn.Linear(120, 84)\n",
        "    self.fc3 = nn.Linear(84, 10)\n",
        "  \n",
        "  def forward(self, x):\n",
        "    x = self.pool(self.relu(self.conv2(self.conv1(x))))\n",
        "    x = self.pool(self.relu(self.conv2(self.conv2(x))))\n",
        "    x = torch.flatten(x,1)\n",
        "    x = self.relu(self.fc1(x))\n",
        "    x = self.relu(self.fc2(x))\n",
        "    x = self.fc3(x)\n",
        "    return x"
      ],
      "execution_count": null,
      "outputs": []
    },
    {
      "cell_type": "markdown",
      "metadata": {
        "id": "AF3Aqd9Putiv"
      },
      "source": [
        "## (2) `INPUT-CONV(32,3*3,1)-ReLU-(module1)-MAXPOOL-(module1)-MAXPOOL- CONV(128,3*3,1)-ReLU-(module2)-(module2)-(module2)-GlobalAveragePooling- FC(128*class_number)-OUTPUT` (15점)"
      ]
    },
    {
      "cell_type": "code",
      "metadata": {
        "id": "V6zgmkRSuz-C"
      },
      "source": [
        "def module1():\n",
        "  temp = nn.Sequential(nn.Conv2d(in_channels=32, out_channels=32,kernel_size=3,padding=1),\n",
        "                       nn.BatchNorm2d(32),\n",
        "                       nn.ReLU()\n",
        "                       )\n",
        "  return temp\n",
        "\n",
        "def module2():\n",
        "  temp = nn.Sequential(nn.Conv2d(128,128,kernel_size=3,padding=1),\n",
        "                       nn.BatchNorm2d(128),\n",
        "                       nn.ReLU()\n",
        "                       )\n",
        "  return temp\n",
        "\n",
        "class Net(nn.Module):\n",
        "  def __init__(self):\n",
        "    super(Net, self).__init__()\n",
        "    self.conv1 = nn.Conv2d(3, 32, kernel_size=3, padding=1)\n",
        "    self.module1_1 = module1()\n",
        "    self.module1_2 = module1()\n",
        "\n",
        "    self.conv2 = nn.Conv2d(32,128,3,padding=1)\n",
        "    self.module2_1 = module2()\n",
        "    self.module2_2 = module2()\n",
        "    self.module2_3 = module2()\n",
        "\n",
        "    self.fc = nn.Linear(128, 10)\n",
        "    \n",
        "    self.pool = nn.MaxPool2d(2, 2)\n",
        "    self.gap = nn.AdaptiveAvgPool2d((1, 1))    \n",
        "    self.act = nn.ReLU()\n",
        "    \n",
        "  def forward(self, x):\n",
        "    x = self.act(self.conv1(x))\n",
        "    x = self.module1_1(x)\n",
        "    x = self.pool(x)\n",
        "    x = self.module1_2(x)\n",
        "    x = self.pool(x)\n",
        "\n",
        "    x = self.act(self.conv2(x))\n",
        "    x = self.module2_1(x)\n",
        "    x = self.module2_2(x)\n",
        "    x = self.module2_3(x)\n",
        "    \n",
        "    x = self.gap(x)\n",
        "    x = torch.flatten(x,1)\n",
        "    x = self.fc(x)\n",
        "    return x"
      ],
      "execution_count": null,
      "outputs": []
    },
    {
      "cell_type": "markdown",
      "metadata": {
        "id": "IAILKqJwvGQe"
      },
      "source": [
        "## (3) 3번 문제의 신경망에 Adam 최적화 (강의자료의 기본 hyper-parameters 사용) 적용 (5점)\n",
        "## (9) 3번 문제의 신경망에 L2놈 규제 적용 (5점)"
      ]
    },
    {
      "cell_type": "code",
      "metadata": {
        "id": "SdLmj8EJvIbE"
      },
      "source": [
        "net = Net()\n",
        "optimizer = optim.Adam(net.parameters(), lr=0.001, weight_decay=1e-5)"
      ],
      "execution_count": null,
      "outputs": []
    },
    {
      "cell_type": "markdown",
      "metadata": {
        "id": "N1UtYZebv0R5"
      },
      "source": [
        "## (4) 데이터 확대 방법들 중 하나를 적용한 후, 3 번 문제의 신경망 학습 (Hint: transforms) (5 점)"
      ]
    },
    {
      "cell_type": "code",
      "metadata": {
        "id": "WHqG7COfv4Qr"
      },
      "source": [
        "transform = transforms.Compose([transforms.RandomHorizontalFlip(), transforms.ToTensor(), transforms.Normalize((0.5, 0.5, 0.5), (0.5, 0.5, 0.5))])"
      ],
      "execution_count": null,
      "outputs": []
    },
    {
      "cell_type": "markdown",
      "metadata": {
        "id": "q3uarutPv_Ue"
      },
      "source": [
        "## (5) 3 번 문제의 신경망에 CONV 층마다 배치 정규화를 적용 (Hint: nn.BatchNorm) (5 점)\n",
        "## (6) 3 번 문제의 신경망 fc2 직후에 dropout(p=0.1) 적용 (5 점)\n"
      ]
    },
    {
      "cell_type": "code",
      "metadata": {
        "colab": {
          "base_uri": "https://localhost:8080/"
        },
        "id": "eBA7F_1XwYn6",
        "outputId": "5da01de6-11af-45b6-956d-33bf80e1b5bf"
      },
      "source": [
        "import torch.nn as nn\n",
        "import torch.nn.functional as F\n",
        "\n",
        "class Net(nn.Module):\n",
        "  #(4)배치 정규화 적용\n",
        "  def __init__(self):\n",
        "    super(Net, self).__init__()\n",
        "    self.layer1 = nn.Sequential(nn.Conv2d(in_channels=3,\n",
        "                                          out_channels=32,\n",
        "                                          kernel_size=5),\n",
        "                                nn.BatchNorm2d(num_features=32),\n",
        "                                nn.ReLU(),\n",
        "                                nn.MaxPool2d(kernel_size=2, stride=2))\n",
        "    self.layer2 = nn.Sequential(nn.Conv2d(in_channels=32,\n",
        "                                          out_channels=32,\n",
        "                                          kernel_size=5),\n",
        "                                nn.BatchNorm2d(num_features=32),\n",
        "                                nn.ReLU(),\n",
        "                                nn.MaxPool2d(kernel_size=2, stride=2))\n",
        "    \n",
        "    self.fc1 = nn.Linear(32 * 5 * 5, 120)\n",
        "    self.fc2 = nn.Linear(120, 84)\n",
        "    self.fc3 = nn.Linear(84, 10)\n",
        "    self.dropout = nn.Dropout(p=0.1)\n",
        "\n",
        "  def forward(self, x):\n",
        "    x = self.layer1(x)\n",
        "    x = self.layer2(x)\n",
        "    x = x.view(-1, 32 * 5 * 5)\n",
        "    x = F.relu(self.fc1(x))\n",
        "    x = self.dropout(F.relu(self.fc2(x)))\n",
        "    #softmax를 통해서 확률값을 먼저 도출\n",
        "    x = F.softmax(self.fc3(x))\n",
        "    return x\n",
        "\n",
        "net = Net()\n",
        "print(net)"
      ],
      "execution_count": null,
      "outputs": [
        {
          "output_type": "stream",
          "text": [
            "Net(\n",
            "  (layer1): Sequential(\n",
            "    (0): Conv2d(3, 32, kernel_size=(5, 5), stride=(1, 1))\n",
            "    (1): BatchNorm2d(32, eps=1e-05, momentum=0.1, affine=True, track_running_stats=True)\n",
            "    (2): ReLU()\n",
            "    (3): MaxPool2d(kernel_size=2, stride=2, padding=0, dilation=1, ceil_mode=False)\n",
            "  )\n",
            "  (layer2): Sequential(\n",
            "    (0): Conv2d(32, 32, kernel_size=(5, 5), stride=(1, 1))\n",
            "    (1): BatchNorm2d(32, eps=1e-05, momentum=0.1, affine=True, track_running_stats=True)\n",
            "    (2): ReLU()\n",
            "    (3): MaxPool2d(kernel_size=2, stride=2, padding=0, dilation=1, ceil_mode=False)\n",
            "  )\n",
            "  (fc1): Linear(in_features=800, out_features=120, bias=True)\n",
            "  (fc2): Linear(in_features=120, out_features=84, bias=True)\n",
            "  (fc3): Linear(in_features=84, out_features=10, bias=True)\n",
            "  (dropout): Dropout(p=0.1, inplace=False)\n",
            ")\n"
          ],
          "name": "stdout"
        }
      ]
    },
    {
      "cell_type": "code",
      "metadata": {
        "colab": {
          "base_uri": "https://localhost:8080/"
        },
        "id": "jAd8ofFaw3_r",
        "outputId": "4a8e94a4-eafe-4077-887c-1da7f4b8d037"
      },
      "source": [
        "input = torch.randn(1, 3, 32, 32)\n",
        "output = net(input)\n",
        "output"
      ],
      "execution_count": null,
      "outputs": [
        {
          "output_type": "stream",
          "text": [
            "/usr/local/lib/python3.6/dist-packages/ipykernel_launcher.py:33: UserWarning: Implicit dimension choice for softmax has been deprecated. Change the call to include dim=X as an argument.\n"
          ],
          "name": "stderr"
        },
        {
          "output_type": "execute_result",
          "data": {
            "text/plain": [
              "tensor([[0.1192, 0.0923, 0.0955, 0.0819, 0.0954, 0.1234, 0.1037, 0.0917, 0.0998,\n",
              "         0.0970]], grad_fn=<SoftmaxBackward>)"
            ]
          },
          "metadata": {
            "tags": []
          },
          "execution_count": 107
        }
      ]
    },
    {
      "cell_type": "markdown",
      "metadata": {
        "id": "A9JhLi43xHPi"
      },
      "source": [
        "## (7) 3 번 문제의 신경망 fc layer 들에 Xavier initialization 적용 (Hint: nn.init.xavier_uniform_) (5 점)"
      ]
    },
    {
      "cell_type": "code",
      "metadata": {
        "id": "bsuJ8wNdxGrU"
      },
      "source": [
        "class Net(nn.Module):\n",
        "  def __init__(self):\n",
        "    super(Net, self).__init__()\n",
        "    self.conv1 = nn.Conv2d(3, 6, 5)\n",
        "    self.pool = nn.MaxPool2d(2, 2)\n",
        "    self.conv2 = nn.Conv2d(6, 16, 5)\n",
        "    self.fc1 = nn.Linear(16 * 5 * 5, 120)\n",
        "    self.fc2 = nn.Linear(120, 84)\n",
        "    self.fc3 = nn.Linear(84, 10)\n",
        "    \n",
        "    for fc in [self.fc1, self.fc2, self.fc3]:\n",
        "      nn.init.xavier_uniform_(fc.weight, .1)  # 이 부분만 있어도 정답 인정\n",
        "      nn.init.constant_(fc.bias, 0.)\n",
        "\n",
        "  def forward(self, x):\n",
        "    x = self.pool(F.relu(self.conv1(x)))\n",
        "    x = self.pool(F.relu(self.conv2(x)))\n",
        "    x = x.view(-1, 16 * 5 * 5)\n",
        "    x = F.relu(self.fc1(x))\n",
        "    x = F.relu(self.fc2(x))\n",
        "    x = self.fc3(x)\n",
        "    return x\n",
        "  \n",
        "net = Net()"
      ],
      "execution_count": null,
      "outputs": []
    },
    {
      "cell_type": "markdown",
      "metadata": {
        "id": "O8ImhnJRxRb_"
      },
      "source": [
        "## (8) 3 번 문제의 신경망에 로그우도 (-log) 손실함수를 적용 (5 점)"
      ]
    },
    {
      "cell_type": "code",
      "metadata": {
        "colab": {
          "base_uri": "https://localhost:8080/"
        },
        "id": "1NyMIWX5xWpF",
        "outputId": "3013d8f6-3e83-4f7d-aaa4-791076073adc"
      },
      "source": [
        "input = torch.randn(1, 3, 32, 32)\n",
        "target = torch.tensor([1])\n",
        "output = net(input)\n",
        "\n",
        "criterion = nn.NLLLoss()\n",
        "m = nn.LogSoftmax()\n",
        "loss = criterion(m(output), target)\n",
        "print(loss)"
      ],
      "execution_count": null,
      "outputs": [
        {
          "output_type": "stream",
          "text": [
            "tensor(2.3030, grad_fn=<NllLossBackward>)\n"
          ],
          "name": "stdout"
        },
        {
          "output_type": "stream",
          "text": [
            "/usr/local/lib/python3.6/dist-packages/ipykernel_launcher.py:7: UserWarning: Implicit dimension choice for log_softmax has been deprecated. Change the call to include dim=X as an argument.\n",
            "  import sys\n"
          ],
          "name": "stderr"
        }
      ]
    },
    {
      "cell_type": "markdown",
      "metadata": {
        "id": "UtlO9dz7hhJW"
      },
      "source": [
        "# 6. 신경망의 출력이 (0.4, 2.0, 0.001, 0.32)T일 때 소프트맥스 함수를 적용한 결과를 쓰시오. (6점)"
      ]
    },
    {
      "cell_type": "code",
      "metadata": {
        "colab": {
          "base_uri": "https://localhost:8080/"
        },
        "id": "W3oM9X1ehkAc",
        "outputId": "c25b2a0c-eb5a-4bad-df44-0e9e2bd38a4f"
      },
      "source": [
        "output = torch.tensor([[0.4, 2.0, 0.001, 0.32]])\n",
        "F.softmax(output)"
      ],
      "execution_count": null,
      "outputs": [
        {
          "output_type": "stream",
          "text": [
            "/usr/local/lib/python3.6/dist-packages/ipykernel_launcher.py:2: UserWarning: Implicit dimension choice for softmax has been deprecated. Change the call to include dim=X as an argument.\n",
            "  \n"
          ],
          "name": "stderr"
        },
        {
          "output_type": "execute_result",
          "data": {
            "text/plain": [
              "tensor([[0.1325, 0.6563, 0.0889, 0.1223]])"
            ]
          },
          "metadata": {
            "tags": []
          },
          "execution_count": 90
        }
      ]
    },
    {
      "cell_type": "markdown",
      "metadata": {
        "id": "cstH9pVHhsT1"
      },
      "source": [
        "# 7.  소프트맥스 함수를 적용한 후 출력이 (0.001,0.9,0.001,0.098)T이고 레이블 정보가 (0,0,0,1)T일 때, 세 가지 목적함수, 평균제곱 오차, 교차 엔트로피, 로그우도를 계산하시오. (6점)"
      ]
    },
    {
      "cell_type": "code",
      "metadata": {
        "colab": {
          "base_uri": "https://localhost:8080/"
        },
        "id": "GonmwoR3hodV",
        "outputId": "17989c64-28e4-441c-c064-a66bb12d4075"
      },
      "source": [
        "predicted = torch.tensor([[0.001, 0.9, 0.001, 0.098]])\n",
        "label_mse = torch.tensor([0, 0, 0, 1])\n",
        "label = torch.tensor([3])\n",
        "\n",
        "print('shape of predicted', predicted.shape)\n",
        "print('shape of label', label.shape)\n",
        "\n",
        "criterion1 = nn.MSELoss()\n",
        "criterion2 = nn.CrossEntropyLoss()\n",
        "criterion3 = nn.NLLLoss()\n",
        "\n",
        "#MSELoss를 사용한 오차크기\n",
        "loss1 = criterion1(predicted, label_mse)\n",
        "print('MSE loss', loss1.item())\n",
        "\n",
        "#CrossEntropyLoss를 사용한 오차크기\n",
        "import math\n",
        "loss2 = -1 * (math.log(0.098))\n",
        "print('Cross entropy loss ', loss2)\n",
        "\n",
        "#NLLLoss를 사용한 오차크기\n",
        "loss3 = criterion3(torch.log(predicted), label)\n",
        "print('NLL loss ', loss3.item())"
      ],
      "execution_count": null,
      "outputs": [
        {
          "output_type": "stream",
          "text": [
            "shape of predicted torch.Size([1, 4])\n",
            "shape of label torch.Size([1])\n",
            "MSE loss 0.4059014916419983\n",
            "Cross entropy loss  2.322787800311565\n",
            "NLL loss  2.3227877616882324\n"
          ],
          "name": "stdout"
        },
        {
          "output_type": "stream",
          "text": [
            "/usr/local/lib/python3.6/dist-packages/torch/nn/modules/loss.py:446: UserWarning: Using a target size (torch.Size([4])) that is different to the input size (torch.Size([1, 4])). This will likely lead to incorrect results due to broadcasting. Please ensure they have the same size.\n",
            "  return F.mse_loss(input, target, reduction=self.reduction)\n"
          ],
          "name": "stderr"
        }
      ]
    },
    {
      "cell_type": "code",
      "metadata": {
        "id": "gOS0ZPQcQZ3a"
      },
      "source": [
        ""
      ],
      "execution_count": null,
      "outputs": []
    }
  ]
}