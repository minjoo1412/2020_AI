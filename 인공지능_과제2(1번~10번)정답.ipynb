{
  "nbformat": 4,
  "nbformat_minor": 0,
  "metadata": {
    "colab": {
      "name": "인공지능 과제2(1번~10번)정답.ipynb",
      "provenance": [],
      "collapsed_sections": [],
      "toc_visible": true,
      "include_colab_link": true
    },
    "kernelspec": {
      "name": "python3",
      "display_name": "Python 3"
    }
  },
  "cells": [
    {
      "cell_type": "markdown",
      "metadata": {
        "id": "view-in-github",
        "colab_type": "text"
      },
      "source": [
        "<a href=\"https://colab.research.google.com/github/minjoo1412/2020_AI/blob/master/%EC%9D%B8%EA%B3%B5%EC%A7%80%EB%8A%A5_%EA%B3%BC%EC%A0%9C2(1%EB%B2%88~10%EB%B2%88)%EC%A0%95%EB%8B%B5.ipynb\" target=\"_parent\"><img src=\"https://colab.research.google.com/assets/colab-badge.svg\" alt=\"Open In Colab\"/></a>"
      ]
    },
    {
      "cell_type": "markdown",
      "metadata": {
        "id": "WDCxOCtzj83P"
      },
      "source": [
        "# 1. 선형회귀"
      ]
    },
    {
      "cell_type": "code",
      "metadata": {
        "id": "bp12Q2tHju-b"
      },
      "source": [
        "import numpy as np\n",
        "%matplotlib inline\n",
        "import matplotlib\n",
        "import matplotlib.pyplot as plt"
      ],
      "execution_count": null,
      "outputs": []
    },
    {
      "cell_type": "code",
      "metadata": {
        "id": "Vji3ujOXj7eU",
        "outputId": "5c5e40fa-c55d-4612-86d0-674d6ee61568",
        "colab": {
          "base_uri": "https://localhost:8080/",
          "height": 287
        }
      },
      "source": [
        "X = 2 * np.random.rand(100, 1)\n",
        "y = 4 + 3 * X + np.random.randn(100, 1)\n",
        "plt.plot(X, y, \"b.\")\n",
        "plt.xlabel(\"$x_1$\", fontsize=18)\n",
        "plt.ylabel(\"$y$\", rotation=0, fontsize=18)\n",
        "plt.axis([0, 2, 0, 15])\n",
        "plt.show()"
      ],
      "execution_count": null,
      "outputs": [
        {
          "output_type": "display_data",
          "data": {
            "image/png": "[encoded data removed]",
            "text/plain": [
              "<Figure size 432x288 with 1 Axes>"
            ]
          },
          "metadata": {
            "tags": [],
            "needs_background": "light"
          }
        }
      ]
    },
    {
      "cell_type": "code",
      "metadata": {
        "id": "3EeOw8EhkAtT",
        "outputId": "3285f0ae-9c61-4e93-e355-5d64e4205d10",
        "colab": {
          "base_uri": "https://localhost:8080/",
          "height": 51
        }
      },
      "source": [
        "# (1) 정답\n",
        "\n",
        "X_b = np.c_[np.ones((100,1)), X] #모든 샘플에 x0=1을 추가함\n",
        "theta_best = np.linalg.inv(X_b.T.dot(X_b)).dot(X_b.T).dot(y)\n",
        "theta_best"
      ],
      "execution_count": null,
      "outputs": [
        {
          "output_type": "execute_result",
          "data": {
            "text/plain": [
              "array([[3.98764797],\n",
              "       [2.94641088]])"
            ]
          },
          "metadata": {
            "tags": []
          },
          "execution_count": 3
        }
      ]
    },
    {
      "cell_type": "markdown",
      "metadata": {
        "id": "yEDOFCDFcA9H"
      },
      "source": [
        "(1)번 해설\n",
        "- 정규방정식을 사용한 선형 회귀의 최적해"
      ]
    },
    {
      "cell_type": "code",
      "metadata": {
        "id": "4RlXRzL3kDlN",
        "outputId": "fa0c47ee-996a-4deb-c43a-596ab6ab175a",
        "colab": {
          "base_uri": "https://localhost:8080/",
          "height": 51
        }
      },
      "source": [
        "# (2) 정답\n",
        "\n",
        "X_new = np.array([[0], [2]])\n",
        "X_new_b = np.c_[np.ones((2,1)),X_new] #2*1차원의 행렬에 1을 넣고 이를 옆으로 붙이기\n",
        "y_predict = X_new_b.dot(theta_best)\n",
        "y_predict"
      ],
      "execution_count": null,
      "outputs": [
        {
          "output_type": "execute_result",
          "data": {
            "text/plain": [
              "array([[3.98764797],\n",
              "       [9.88046972]])"
            ]
          },
          "metadata": {
            "tags": []
          },
          "execution_count": 4
        }
      ]
    },
    {
      "cell_type": "markdown",
      "metadata": {
        "id": "stLx1NOecFxR"
      },
      "source": [
        "(2)번 해설\n",
        "- 최적의 세타 값을 사용해서 예측"
      ]
    },
    {
      "cell_type": "code",
      "metadata": {
        "id": "mXgyXV--kHKv",
        "outputId": "8d9ac645-ba16-44b6-c5e5-0587831f9164",
        "colab": {
          "base_uri": "https://localhost:8080/",
          "height": 287
        }
      },
      "source": [
        "# (3) 정답\n",
        "\n",
        "plt.plot(X_new, y_predict, \"r-\", linewidth=2, label=\"prediction\")\n",
        "plt.plot(X, y, \"b.\")\n",
        "plt.xlabel(\"$x_1$\", fontsize=18)\n",
        "plt.ylabel(\"$y$\", rotation=0, fontsize=18)\n",
        "plt.legend(loc=\"upper left\", fontsize=14)\n",
        "plt.axis([0, 2, 0, 15])\n",
        "plt.show()"
      ],
      "execution_count": null,
      "outputs": [
        {
          "output_type": "display_data",
          "data": {
            "image/png": "[encoded data removed]",
            "text/plain": [
              "<Figure size 432x288 with 1 Axes>"
            ]
          },
          "metadata": {
            "tags": [],
            "needs_background": "light"
          }
        }
      ]
    },
    {
      "cell_type": "markdown",
      "metadata": {
        "id": "4x8LwnVncLxL"
      },
      "source": [
        "(3)번 해설\n",
        "- 제대로 그래프 그려졌는지 확인\n",
        "- 해석이 정상 범위에 있는지 확인\n"
      ]
    },
    {
      "cell_type": "code",
      "metadata": {
        "id": "RUnpMNeZkNGi",
        "outputId": "f039b482-0bb4-4f36-f82b-40f47481f9f0",
        "colab": {
          "base_uri": "https://localhost:8080/",
          "height": 51
        }
      },
      "source": [
        "# (4) 정답\n",
        "\n",
        "theta_best_svd, residuals, rank, s = np.linalg.lstsq(X_b, y, rcond=1e-6)\n",
        "theta_best_svd"
      ],
      "execution_count": null,
      "outputs": [
        {
          "output_type": "execute_result",
          "data": {
            "text/plain": [
              "array([[3.98764797],\n",
              "       [2.94641088]])"
            ]
          },
          "metadata": {
            "tags": []
          },
          "execution_count": 6
        }
      ]
    },
    {
      "cell_type": "markdown",
      "metadata": {
        "id": "Dq1u59IXcSil"
      },
      "source": [
        "(4)번 해설\n",
        "- least squares 결과로 theta_best_svd는 least squares의 결과값\n"
      ]
    },
    {
      "cell_type": "code",
      "metadata": {
        "id": "v8GkReO3kU4R",
        "outputId": "ccf44815-d16c-4a9e-f654-990af3e77936",
        "colab": {
          "base_uri": "https://localhost:8080/",
          "height": 51
        }
      },
      "source": [
        "# (5) 정답\n",
        "\n",
        "np.linalg.pinv(X_b).dot(y)"
      ],
      "execution_count": null,
      "outputs": [
        {
          "output_type": "execute_result",
          "data": {
            "text/plain": [
              "array([[3.98764797],\n",
              "       [2.94641088]])"
            ]
          },
          "metadata": {
            "tags": []
          },
          "execution_count": 7
        }
      ]
    },
    {
      "cell_type": "markdown",
      "metadata": {
        "id": "T_pwKAmFcVvb"
      },
      "source": [
        "(5)번 해설\n",
        "- 유사역행렬을 사용한 세타 근사값 구하기"
      ]
    },
    {
      "cell_type": "code",
      "metadata": {
        "id": "bBimdYBLkXPY",
        "outputId": "396a3834-5e2d-4722-b709-ec131eb7cd9d",
        "colab": {
          "base_uri": "https://localhost:8080/",
          "height": 51
        }
      },
      "source": [
        "# (6) 정답\n",
        "#경사하강법을 사용한 선형 회귀 접근\n",
        "\n",
        "eta = 0.1\n",
        "n_iterations = 1000\n",
        "m = 100\n",
        "theta = np.random.randn(2,1) #랜덤 초기화\n",
        "for iteration in range(n_iterations):\n",
        "  gradients = 2/m * X_b.T.dot(X_b.dot(theta)-y)\n",
        "  theta = theta - eta * gradients\n",
        "theta"
      ],
      "execution_count": null,
      "outputs": [
        {
          "output_type": "execute_result",
          "data": {
            "text/plain": [
              "array([[3.98764797],\n",
              "       [2.94641088]])"
            ]
          },
          "metadata": {
            "tags": []
          },
          "execution_count": 8
        }
      ]
    },
    {
      "cell_type": "markdown",
      "metadata": {
        "id": "6-Bjz7NbxB5h"
      },
      "source": [
        "(6)번 해설\n",
        "- 경사하강법을 사용한 선형회귀 방법\n",
        "- 세타가 약간 변화하면 비용함수가 어떻게 변화할지를 계산해야 하는데 이 과정이 미분 과정\n",
        "- 여기에서 eta는 learning rate을 의미하고, 1000번을 반복하면서 세타를 갱신하면서 최적의 세타를 찾아 나아가는 것"
      ]
    },
    {
      "cell_type": "code",
      "metadata": {
        "id": "2bqC_rw9kbVx",
        "outputId": "34201941-3f93-437f-a5ff-9d315cb75c28",
        "colab": {
          "base_uri": "https://localhost:8080/",
          "height": 51
        }
      },
      "source": [
        "# (7) 정답\n",
        "\n",
        "X_new_b.dot(theta)"
      ],
      "execution_count": null,
      "outputs": [
        {
          "output_type": "execute_result",
          "data": {
            "text/plain": [
              "array([[3.98764797],\n",
              "       [9.88046972]])"
            ]
          },
          "metadata": {
            "tags": []
          },
          "execution_count": 9
        }
      ]
    },
    {
      "cell_type": "markdown",
      "metadata": {
        "id": "aKFceRBUxMMC"
      },
      "source": [
        "(7)번 해설\n",
        "- 예측값 출력"
      ]
    },
    {
      "cell_type": "code",
      "metadata": {
        "id": "7qBwimEGkeg_",
        "outputId": "643f07d2-534e-44de-c094-8812bd9a20a7",
        "colab": {
          "base_uri": "https://localhost:8080/",
          "height": 307
        }
      },
      "source": [
        "# (8) 정답\n",
        "\n",
        "theta_path_bgd = []\n",
        "\n",
        "def plot_gradient_descent(theta, eta, theta_path=None):\n",
        "    m = len(X_b)\n",
        "    plt.plot(X, y, \"b.\")\n",
        "    n_iterations = 1000\n",
        "    for iteration in range(n_iterations):\n",
        "        if iteration < 10:\n",
        "            y_predict = X_new_b.dot(theta)\n",
        "            style = \"b-\" if iteration > 0 else \"r--\"\n",
        "            plt.plot(X_new, y_predict, style)\n",
        "        gradients = 2/m * X_b.T.dot(X_b.dot(theta) - y)\n",
        "        theta = theta - eta * gradients\n",
        "        if theta_path is not None:\n",
        "            theta_path.append(theta)\n",
        "    plt.xlabel(\"$x_1$\", fontsize=18)\n",
        "    plt.axis([0, 2, 0, 15])\n",
        "    plt.title(r\"$\\eta = {}$\".format(eta), fontsize=16)\n",
        "  \n",
        "\n",
        "np.random.seed(42)\n",
        "theta = np.random.randn(2,1)  # random initialization\n",
        "\n",
        "plt.figure(figsize=(10,4))\n",
        "plt.subplot(131); plot_gradient_descent(theta, eta=0.02)\n",
        "plt.ylabel(\"$y$\", rotation=0, fontsize=18)\n",
        "plt.subplot(132); plot_gradient_descent(theta, eta=0.1, theta_path=theta_path_bgd)\n",
        "plt.subplot(133); plot_gradient_descent(theta, eta=0.5)\n",
        "plt.show()"
      ],
      "execution_count": null,
      "outputs": [
        {
          "output_type": "display_data",
          "data": {
            "image/png": "[encoded data removed]",
            "text/plain": [
              "<Figure size 720x288 with 3 Axes>"
            ]
          },
          "metadata": {
            "tags": [],
            "needs_background": "light"
          }
        }
      ]
    },
    {
      "cell_type": "markdown",
      "metadata": {
        "id": "Tf7ExnYCxQ79"
      },
      "source": [
        "(8)번 해설\n",
        "- 화면 제대로 출력됐는지 확인\n",
        "- learning rate의 변화 값에 따라 너무 작으면 학습이 느리고, 너무 크면 최적해에 수렴하지 못함"
      ]
    },
    {
      "cell_type": "code",
      "metadata": {
        "id": "gPE8pZrokisW",
        "outputId": "a6680240-fd69-4cd3-ebdb-448fb087b4cf",
        "colab": {
          "base_uri": "https://localhost:8080/",
          "height": 287
        }
      },
      "source": [
        "# (9) 정답\n",
        "#스토캐스틱 경사하강법을 사용한 선형 회귀 접근\n",
        "\n",
        "theta_path_sgd = []\n",
        "m = len(X_b)\n",
        "np.random.seed(42)\n",
        "\n",
        "n_epochs = 50\n",
        "t0, t1 = 5, 50\n",
        "\n",
        "def learning_schedule(t):\n",
        "  return t0/ (t + t1)\n",
        "theta = np.random.randn(2, 1)\n",
        "\n",
        "for epoch in range(n_epochs):\n",
        "    for i in range(m):\n",
        "        if epoch == 0 and i < 20:                    \n",
        "            y_predict = X_new_b.dot(theta)           \n",
        "            style = \"b-\" if i > 0 else \"r--\"         \n",
        "            plt.plot(X_new, y_predict, style)        \n",
        "        random_index = np.random.randint(m)\n",
        "        xi = X_b[random_index:random_index+1]\n",
        "        yi = y[random_index:random_index+1]\n",
        "        gradients = 2 * xi.T.dot(xi.dot(theta) - yi)\n",
        "        eta = learning_schedule(epoch * m + i)\n",
        "        theta = theta - eta * gradients\n",
        "        theta_path_sgd.append(theta) \n",
        "    \n",
        "    \n",
        "plt.plot(X, y, \"b.\")                                 \n",
        "plt.xlabel(\"$x_1$\", fontsize=18)                     \n",
        "plt.ylabel(\"$y$\", rotation=0, fontsize=18)           \n",
        "plt.axis([0, 2, 0, 15])                               \n",
        "plt.show()     "
      ],
      "execution_count": null,
      "outputs": [
        {
          "output_type": "display_data",
          "data": {
            "image/png": "[encoded data removed]",
            "text/plain": [
              "<Figure size 432x288 with 1 Axes>"
            ]
          },
          "metadata": {
            "tags": [],
            "needs_background": "light"
          }
        }
      ]
    },
    {
      "cell_type": "markdown",
      "metadata": {
        "id": "SvQvc3VzxYEB"
      },
      "source": [
        "(9)번 해설\n",
        "- SGD를 사용한 y_predict값 출력 결과\n",
        "- iteration에 따라 최적해에 수렴함"
      ]
    },
    {
      "cell_type": "code",
      "metadata": {
        "id": "A7_AZyo3knIh",
        "outputId": "53d2a39e-2bd7-45d8-d85a-09d64ecab823",
        "colab": {
          "base_uri": "https://localhost:8080/",
          "height": 51
        }
      },
      "source": [
        "# (10)번 정답\n",
        "\n",
        "theta"
      ],
      "execution_count": null,
      "outputs": [
        {
          "output_type": "execute_result",
          "data": {
            "text/plain": [
              "array([[3.97275754],\n",
              "       [2.94738753]])"
            ]
          },
          "metadata": {
            "tags": []
          },
          "execution_count": 12
        }
      ]
    },
    {
      "cell_type": "markdown",
      "metadata": {
        "id": "AQROX8Tfxcey"
      },
      "source": [
        "(10)번 해설\n",
        "- epoch 끝났을 때의 예측값\n",
        "- 지금까지 위에서 예측한 세타 값과 유사함"
      ]
    },
    {
      "cell_type": "code",
      "metadata": {
        "id": "PfCLvBQclbXG",
        "outputId": "fc62950e-436d-40ee-ef7d-7affc83eca06",
        "colab": {
          "base_uri": "https://localhost:8080/",
          "height": 51
        }
      },
      "source": [
        "# (11)번 정답\n",
        "##미니배치 경사 하강법을 사용한 선형회귀 접근\n",
        "\n",
        "theta_path_mgd =[]\n",
        "\n",
        "n_iterationns = 50\n",
        "minibatch_size = 20\n",
        "\n",
        "np.random.seed(42)\n",
        "theta = np.random.randn(2, 1)\n",
        "\n",
        "t0, t1 = 200, 1000\n",
        "def learning_schedule(t):\n",
        "  return t0/ (t + t1)\n",
        "\n",
        "t = 0\n",
        "\n",
        "for epoch in range(n_iterations):\n",
        "  shuffled_indices = np.random.permutation(m) #배열 요소를 무작위로 섞음\n",
        "  X_b_shuffled = X_b[shuffled_indices]\n",
        "  y_shuffled = y[shuffled_indices]\n",
        "  for i in range(0, m, minibatch_size): #미니 배치 사이즈로 이동하면서 세타 구하기\n",
        "    t += 1\n",
        "    xi = X_b_shuffled[i:i+minibatch_size]\n",
        "    yi = y_shuffled[i:i+minibatch_size]\n",
        "    gradients = 2/minibatch_size * xi.T.dot(xi.dot(theta) - yi)\n",
        "    eta = learning_schedule(t)\n",
        "    theta = theta - eta*gradients\n",
        "    theta_path_mgd.append(theta)\n",
        "theta"
      ],
      "execution_count": null,
      "outputs": [
        {
          "output_type": "execute_result",
          "data": {
            "text/plain": [
              "array([[3.97991567],\n",
              "       [2.93877136]])"
            ]
          },
          "metadata": {
            "tags": []
          },
          "execution_count": 13
        }
      ]
    },
    {
      "cell_type": "markdown",
      "metadata": {
        "id": "Ze3qOjzTxqVu"
      },
      "source": [
        "(11)번 해설\n",
        "\n",
        "- 마찬가지로 미니 배치를 사용해도 세타값이 유사하게 도출됨\n"
      ]
    },
    {
      "cell_type": "code",
      "metadata": {
        "id": "bPVAAbHIletR",
        "outputId": "14f1c4ad-4b37-4397-f36b-d595e26ca2a2",
        "colab": {
          "base_uri": "https://localhost:8080/",
          "height": 292
        }
      },
      "source": [
        "# (12)번 정답\n",
        "\n",
        "theta_path_bgd = np.array(theta_path_bgd)\n",
        "theta_path_sgd = np.array(theta_path_sgd)\n",
        "theta_path_mgd = np.array(theta_path_mgd)\n",
        "\n",
        "plt.figure(figsize=(7,4))\n",
        "plt.plot(theta_path_sgd[:, 0], theta_path_sgd[:, 1], \"r-s\", linewidth=1, label=\"SGD\")\n",
        "plt.plot(theta_path_mgd[:, 0], theta_path_mgd[:, 1], \"g-+\", linewidth=2, label=\"MINI-BATCH\")\n",
        "plt.plot(theta_path_bgd[:, 0], theta_path_bgd[:, 1], \"b-o\", linewidth=3, label=\"BATCH\")\n",
        "plt.legend(loc=\"upper left\", fontsize=16)\n",
        "plt.xlabel(r\"$\\theta_0$\", fontsize=20)\n",
        "plt.ylabel(r\"$theta_1$   \", fontsize=20, rotation=0)\n",
        "plt.axis([2.5, 4.5, 2.3, 3.9])\n",
        "plt.show()"
      ],
      "execution_count": null,
      "outputs": [
        {
          "output_type": "display_data",
          "data": {
            "image/png": "[encoded data removed]",
            "text/plain": [
              "<Figure size 504x288 with 1 Axes>"
            ]
          },
          "metadata": {
            "tags": [],
            "needs_background": "light"
          }
        }
      ]
    },
    {
      "cell_type": "markdown",
      "metadata": {
        "id": "6tyGelCZxw8u"
      },
      "source": [
        "(12)번 해설\n",
        "- SGD - 학습 방향이 튀는 경우가 있지만 최저해에 유사하게 수렴\n",
        "- Mini-Batch - SGD보다 안정적으로 최적해에 수렴\n",
        "- Batch - 가장 안정적으로 최적해에 수렴"
      ]
    },
    {
      "cell_type": "markdown",
      "metadata": {
        "id": "xNfeOwXOltNQ"
      },
      "source": [
        "# 2. 다차항회귀"
      ]
    },
    {
      "cell_type": "code",
      "metadata": {
        "id": "gF3-vuvEliUy",
        "outputId": "94cd4c86-7d06-4464-c3cc-596a2af8efb2",
        "colab": {
          "base_uri": "https://localhost:8080/",
          "height": 291
        }
      },
      "source": [
        "import numpy as np\n",
        "import numpy.random as rnd\n",
        "\n",
        "np.random.seed(42)\n",
        "m = 100\n",
        "X = 6 * np.random.rand(m,1) - 3\n",
        "y = 0.5 * X**2 + X + 2 + np.random.randn(m,1)\n",
        "plt.plot(X, y, \"b.\")\n",
        "plt.xlabel(\"$x_1$\", fontsize=18)\n",
        "plt.ylabel(\"$y$\", rotation=0, fontsize=18)\n",
        "plt.axis([-3, 3, 0, 10])\n",
        "plt.show()"
      ],
      "execution_count": null,
      "outputs": [
        {
          "output_type": "display_data",
          "data": {
            "image/png": "[encoded data removed]",
            "text/plain": [
              "<Figure size 432x288 with 1 Axes>"
            ]
          },
          "metadata": {
            "tags": [],
            "needs_background": "light"
          }
        }
      ]
    },
    {
      "cell_type": "code",
      "metadata": {
        "id": "5hLbRWjvly2T",
        "outputId": "a06c5491-a23f-4637-fe65-ecd6a62456be",
        "colab": {
          "base_uri": "https://localhost:8080/",
          "height": 34
        }
      },
      "source": [
        "# (1), (2)번 정답\n",
        "\n",
        "from sklearn.preprocessing import PolynomialFeatures\n",
        "poly_features = PolynomialFeatures(degree=2, include_bias=False)\n",
        "X_poly = poly_features.fit_transform(X)\n",
        "X[0], X_poly[0]"
      ],
      "execution_count": null,
      "outputs": [
        {
          "output_type": "execute_result",
          "data": {
            "text/plain": [
              "(array([-0.75275929]), array([-0.75275929,  0.56664654]))"
            ]
          },
          "metadata": {
            "tags": []
          },
          "execution_count": 16
        }
      ]
    },
    {
      "cell_type": "markdown",
      "metadata": {
        "id": "KnnWBRjdx1nm"
      },
      "source": [
        "(1), (2)번 해설\n",
        "- X_poly에서 기존 X와 X^2값이 추가된 것을 확인할 수 있습니다."
      ]
    },
    {
      "cell_type": "code",
      "metadata": {
        "id": "dsyln6ZUl0pE",
        "outputId": "1bb15856-9871-4eb9-c50c-b81c08b49d98",
        "colab": {
          "base_uri": "https://localhost:8080/",
          "height": 34
        }
      },
      "source": [
        "# (3)번 정답\n",
        "\n",
        "from sklearn.linear_model import LinearRegression\n",
        "lin_reg = LinearRegression()\n",
        "lin_reg.fit(X_poly, y)\n",
        "lin_reg.intercept_, lin_reg.coef_"
      ],
      "execution_count": null,
      "outputs": [
        {
          "output_type": "execute_result",
          "data": {
            "text/plain": [
              "(array([1.78134581]), array([[0.93366893, 0.56456263]]))"
            ]
          },
          "metadata": {
            "tags": []
          },
          "execution_count": 17
        }
      ]
    },
    {
      "cell_type": "markdown",
      "metadata": {
        "id": "_pIUSPpLx6U2"
      },
      "source": [
        "(3)번 해설\n",
        "- 모델에 fit한 후의 절편 값과 가중치 값"
      ]
    },
    {
      "cell_type": "code",
      "metadata": {
        "id": "TKJrYS9ul7CP",
        "outputId": "23077546-d4d6-4716-999e-b009bd42f0b9",
        "colab": {
          "base_uri": "https://localhost:8080/",
          "height": 291
        }
      },
      "source": [
        "# (4)번 정답\n",
        "\n",
        "X_new = np.linspace(-3, 3, 100).reshape(100, 1)\n",
        "X_new_poly = poly_features.transform(X_new)\n",
        "y_new = lin_reg.predict(X_new_poly)\n",
        "\n",
        "plt.plot(X, y, \"b.\")\n",
        "plt.plot(X_new, y_new, \"r-\", linewidth=2, label=\"prediction\")\n",
        "plt.xlabel(\"$x_1$\", fontsize=18)\n",
        "plt.ylabel(\"$y$\", rotation=0, fontsize=18)\n",
        "plt.legend(loc=\"upper left\", fontsize=14)\n",
        "plt.axis([-3, 3, 0, 10])\n",
        "plt.show()"
      ],
      "execution_count": null,
      "outputs": [
        {
          "output_type": "display_data",
          "data": {
            "image/png": "[encoded data removed]",
            "text/plain": [
              "<Figure size 432x288 with 1 Axes>"
            ]
          },
          "metadata": {
            "tags": [],
            "needs_background": "light"
          }
        }
      ]
    },
    {
      "cell_type": "markdown",
      "metadata": {
        "id": "glMiAw3Qx8y7"
      },
      "source": [
        "(4)번 해설\n",
        "- 다차항에 대한 회귀"
      ]
    },
    {
      "cell_type": "code",
      "metadata": {
        "id": "p0rOuomymBh0",
        "outputId": "b99663d2-99c7-4470-b9e9-fa7f9f57ee3f",
        "colab": {
          "base_uri": "https://localhost:8080/",
          "height": 291
        }
      },
      "source": [
        "# (5)번 정답\n",
        "\n",
        "from sklearn.preprocessing import StandardScaler\n",
        "from sklearn.pipeline import Pipeline\n",
        "\n",
        "for style, width, degree in ((\"g-\", 1, 300), (\"b--\", 2, 2), (\"r-+\", 2, 1)):\n",
        "  polybig_features = PolynomialFeatures(degree=degree, include_bias=False)\n",
        "  std_scaler = StandardScaler()\n",
        "  lin_reg = LinearRegression()\n",
        "  polynomial_regression=Pipeline([\n",
        "      (\"poly_features\", polybig_features),\n",
        "      (\"std_scaler\", std_scaler),\n",
        "      (\"lin_reg\", lin_reg),\n",
        "  ])\n",
        "  polynomial_regression.fit(X, y)\n",
        "  y_newbig = polynomial_regression.predict(X_new)\n",
        "  plt.plot(X_new, y_newbig, style, label=str(degree),linewidth=width)\n",
        "plt.plot(X, y, \"b.\", linewidth=3)\n",
        "plt.legend(loc=\"upper left\")\n",
        "plt.xlabel(\"$x_1$\", fontsize=18)\n",
        "plt.ylabel(\"$y$\", rotation=0, fontsize=18)\n",
        "plt.axis([-3, 3, 0, 10])\n",
        "plt.show()"
      ],
      "execution_count": null,
      "outputs": [
        {
          "output_type": "display_data",
          "data": {
            "image/png": "[encoded data removed]",
            "text/plain": [
              "<Figure size 432x288 with 1 Axes>"
            ]
          },
          "metadata": {
            "tags": [],
            "needs_background": "light"
          }
        }
      ]
    },
    {
      "cell_type": "markdown",
      "metadata": {
        "id": "x_dvsZzNyAqG"
      },
      "source": [
        "(5)번 해설\n",
        "- 다차항의 차수 증가에 따른 회귀 형태 변화\n",
        "- 차수가 증가할수록 데이터에 과적합되는 것을 확인할 수 있음"
      ]
    },
    {
      "cell_type": "markdown",
      "metadata": {
        "id": "yj9UMyegmF1J"
      },
      "source": [
        "# 3. 규제"
      ]
    },
    {
      "cell_type": "code",
      "metadata": {
        "id": "5S5HRcH-mEc9",
        "outputId": "9055ced1-d739-431b-9e55-aacae3275c8b",
        "colab": {
          "base_uri": "https://localhost:8080/",
          "height": 291
        }
      },
      "source": [
        "from sklearn.linear_model import Ridge\n",
        "\n",
        "np.random.seed(42)\n",
        "m = 20\n",
        "X = 3 * np.random.rand(m, 1)\n",
        "y = 1 + 0.5 * X + np.random.randn(m ,1) / 1.5\n",
        "X_new = np.linspace(0, 3, 100).reshape(100, 1)\n",
        "def plot_model(model_class, polynomial, alphas, **model_kargs):\n",
        "  for alpha, style in zip(alphas, (\"b-\", \"g--\", \"r:\")):\n",
        "    model = model_class(alpha, **model_kargs) if alpha > 0 else LinearRegression()\n",
        "    if polynomial:\n",
        "      model = Pipeline([\n",
        "          (\"poly_features\", PolynomialFeatures(degree=10, include_bias=False)),\n",
        "          (\"std_scaler\", StandardScaler()),\n",
        "          (\"regul_reg\", model),\n",
        "      ])\n",
        "    model.fit(X, y)\n",
        "    y_new_regul = model.predict(X_new)\n",
        "    lw = 2 if alpha > 0 else 1\n",
        "    plt.plot(X_new, y_new_regul, style, linewidth=lw, label=r\"$\\alpha = {}$\".format(alpha))\n",
        "  plt.plot(X, y, \"b.\", linewidth = 3)\n",
        "  plt.legend(loc=\"upper left\", fontsize=15)\n",
        "  plt.xlabel(\"$x_1$\", fontsize=18)\n",
        "  plt.axis([0, 3, 0, 4])\n",
        "plt.figure(figsize=(8, 4))\n",
        "plt.subplot(121)\n",
        "plot_model(Ridge, polynomial=False, alphas=(0, 10, 100), random_state=42)\n",
        "plt.ylabel(\"$y$\", rotation=0, fontsize=18)\n",
        "plt.subplot(122)\n",
        "plot_model(Ridge, polynomial=True, alphas=(0, 10**-5, 1), random_state=42)\n",
        "plt.show()"
      ],
      "execution_count": null,
      "outputs": [
        {
          "output_type": "display_data",
          "data": {
            "image/png": "[encoded data removed]",
            "text/plain": [
              "<Figure size 576x288 with 2 Axes>"
            ]
          },
          "metadata": {
            "tags": [],
            "needs_background": "light"
          }
        }
      ]
    },
    {
      "cell_type": "markdown",
      "metadata": {
        "id": "cie-ptjLyKKx"
      },
      "source": [
        "해설\n",
        "- 알파는 규제 강도를 의미하며, 규제 강도가 약할수록 과적합되는 것을 확인할 수 있음"
      ]
    },
    {
      "cell_type": "code",
      "metadata": {
        "id": "P4L_dauLmKxx",
        "outputId": "2aa17686-0fc9-4c3d-9d33-ed0661422195",
        "colab": {
          "base_uri": "https://localhost:8080/",
          "height": 511
        }
      },
      "source": [
        "from __future__ import division, print_function, unicode_literals\n",
        "\n",
        "import os\n",
        "import numpy as np\n",
        "%matplotlib inline\n",
        "import matplotlib\n",
        "import matplotlib.pyplot as plt\n",
        "\n",
        "def logit(z):\n",
        "  return 1 / (1+ np.exp(-z))\n",
        "\n",
        "def relu(z):\n",
        "  return np.maximum(0, z)\n",
        "  \n",
        "def derivative(f, z, eps=0.000001):\n",
        "  return (f(z + eps) - f(z - eps))/(2 * eps)\n",
        "\n",
        "z = np.linspace(-5, 5, 200)\n",
        "\n",
        "plt.figure(figsize=(11, 4))\n",
        "\n",
        "plt.subplot(121)\n",
        "plt.plot(z, np.sign(z), \"r-\", linewidth=2, label=\"step\")\n",
        "plt.plot(z, logit(z), \"g--\", linewidth=2, label=\"sigmoid\")\n",
        "plt.plot(z, np.tanh(z), \"b-\", linewidth=2, label=\"tanh\")\n",
        "plt.plot(z, relu(z), \"m-.\", linewidth=2, label=\"ReLu\")\n",
        "plt.grid(True)\n",
        "plt.legend(loc=\"conter right\", fontsize=14)\n",
        "plt.title(\"activation function: g(z)\", fontsize=14)\n",
        "plt.axis([-5, 5, -1.2, 1.2])\n",
        "\n",
        "plt.subplot(122)\n",
        "plt.plot(z, derivative(np.sign, z), \"r-\", linewidth=2, label=\"step \")\n",
        "plt.plot(0, 0, \"ro\", markersize=5)\n",
        "plt.plot(0, 0, \"rx\", markersize=10)\n",
        "plt.plot(z, derivative(logit, z), \"g--\", linewidth=2, label=\"sigmoid\")\n",
        "plt.plot(z, derivative(np.tanh, z), \"b-\", linewidth=2, label=\"tanh\")\n",
        "plt.plot(z, derivative(relu, z), \"m-.\", linewidth=2, label=\"ReLu\")\n",
        "plt.grid(True)\n",
        "plt.legend(loc=\"upper left\", fontsize=14)\n",
        "plt.title(\"grdient: g'(z)\", fontsize=14)\n",
        "plt.axis([-5, 5, -0.2, 1.2])\n",
        "\n",
        "plt.show()"
      ],
      "execution_count": null,
      "outputs": [
        {
          "output_type": "stream",
          "text": [
            "/usr/local/lib/python3.6/dist-packages/ipykernel_launcher.py:28: MatplotlibDeprecationWarning: Unrecognized location 'conter right'. Falling back on 'best'; valid locations are\n",
            "\tbest\n",
            "\tupper right\n",
            "\tupper left\n",
            "\tlower left\n",
            "\tlower right\n",
            "\tright\n",
            "\tcenter left\n",
            "\tcenter right\n",
            "\tlower center\n",
            "\tupper center\n",
            "\tcenter\n",
            "This will raise an exception in 3.3.\n"
          ],
          "name": "stderr"
        },
        {
          "output_type": "display_data",
          "data": {
            "image/png": "[encoded data removed]",
            "text/plain": [
              "<Figure size 792x288 with 2 Axes>"
            ]
          },
          "metadata": {
            "tags": [],
            "needs_background": "light"
          }
        }
      ]
    },
    {
      "cell_type": "markdown",
      "metadata": {
        "id": "qt3AyF_qxft2"
      },
      "source": [
        "- Step func: 0을 기준으로 0보다 크면 1, 0보다 작으면 -1이 출력되며, 연속적인 값을 출력할 수 없음. 미분 불가.\n",
        "- sigmoid func: step function과 다르게 입력 값에 따라, 0~1 사이의 실수값을 출력함. 미분 가능하지만 값이 커지면 미분값이 0이 되어 vanishing gradient 문제 발생\n",
        "- tanh func: sigmoid와 유사함. sigmoid와 다른점은 출력 범위가 -1 ~ +1 사이의 실수값이고, 중간값이 0.\n",
        "- ReLU func: max(0,x) 값을 출력함. 값이 커져도 gradient vanishing 문제가 발생하지 않음. 0 이하의 값은 학습 시 가중치를 죽이는 dying relu라는 문제를 갖고 있음"
      ]
    },
    {
      "cell_type": "markdown",
      "metadata": {
        "id": "6XQek_DM0T4x"
      },
      "source": [
        "# 5. 오류 역전파"
      ]
    },
    {
      "cell_type": "code",
      "metadata": {
        "id": "YDnhUKgYxWNa"
      },
      "source": [
        "# (1)번\n",
        "\n",
        "import numpy as np\n",
        "%matplotlib inline\n",
        "import matplotlib\n",
        "import matplotlib.pyplot as plt\n",
        "\n",
        "np.random.seed(0)\n",
        "\n",
        "N, D = 3, 4\n",
        "\n",
        "x = np.random.randn(N, D)\n",
        "y = np.random.randn(N, D)\n",
        "z = np.random.randn(N, D)\n",
        "\n",
        "a = x * y\n",
        "b = a + z\n",
        "c = np.sum(b)"
      ],
      "execution_count": null,
      "outputs": []
    },
    {
      "cell_type": "code",
      "metadata": {
        "id": "W5-n0E_l2-jG",
        "outputId": "a63a904f-01b9-4422-cdfb-eae9d2ccbd52",
        "colab": {
          "base_uri": "https://localhost:8080/",
          "height": 34
        }
      },
      "source": [
        "from IPython.display import Image\n",
        "Image('IMG_4AD102BE6426-1.jpeg')"
      ],
      "execution_count": null,
      "outputs": [
        {
          "output_type": "execute_result",
          "data": {
            "image/png": "IMG_4AD102BE6426-1.jpeg",
            "text/plain": [
              "<IPython.core.display.Image object>"
            ]
          },
          "metadata": {
            "tags": []
          },
          "execution_count": 23
        }
      ]
    },
    {
      "cell_type": "markdown",
      "metadata": {
        "id": "7ulSnHnFyQCG"
      },
      "source": [
        "- 연산망 그래프를 직접 손으로 작성"
      ]
    },
    {
      "cell_type": "code",
      "metadata": {
        "id": "p9knqkoH0pQ6",
        "outputId": "f35fc61c-29ed-40f2-ef9b-4e4f7ae21c2f",
        "colab": {
          "base_uri": "https://localhost:8080/",
          "height": 224
        }
      },
      "source": [
        "# (2)번\n",
        "\n",
        "grad_c = 1.0\n",
        "grad_b = grad_c * np.ones((N, D))\n",
        "grad_a = grad_b.copy()\n",
        "grad_z = grad_b.copy()\n",
        "grad_x = grad_a * y\n",
        "grad_y = grad_a * x\n",
        "\n",
        "grad_c, grad_b, grad_a, grad_z, grad_x, grad_y"
      ],
      "execution_count": null,
      "outputs": [
        {
          "output_type": "execute_result",
          "data": {
            "text/plain": [
              "(1.0, array([[1., 1., 1., 1.],\n",
              "        [1., 1., 1., 1.],\n",
              "        [1., 1., 1., 1.]]), array([[1., 1., 1., 1.],\n",
              "        [1., 1., 1., 1.],\n",
              "        [1., 1., 1., 1.]]), array([[1., 1., 1., 1.],\n",
              "        [1., 1., 1., 1.],\n",
              "        [1., 1., 1., 1.]]), array([[ 0.76103773,  0.12167502,  0.44386323,  0.33367433],\n",
              "        [ 1.49407907, -0.20515826,  0.3130677 , -0.85409574],\n",
              "        [-2.55298982,  0.6536186 ,  0.8644362 , -0.74216502]]), array([[ 1.76405235,  0.40015721,  0.97873798,  2.2408932 ],\n",
              "        [ 1.86755799, -0.97727788,  0.95008842, -0.15135721],\n",
              "        [-0.10321885,  0.4105985 ,  0.14404357,  1.45427351]]))"
            ]
          },
          "metadata": {
            "tags": []
          },
          "execution_count": 24
        }
      ]
    },
    {
      "cell_type": "markdown",
      "metadata": {
        "id": "n-Dk0FxAyTNl"
      },
      "source": [
        "(2)번 해설\n",
        "각 연산의 미분 값\n",
        " - 더하기 = fan out\n",
        " - 곱하기 = swap multiplier"
      ]
    },
    {
      "cell_type": "code",
      "metadata": {
        "id": "2_ZNZjKL0uJI",
        "outputId": "05d67c6c-bb13-40ba-e3f3-28e03d895313",
        "colab": {
          "base_uri": "https://localhost:8080/",
          "height": 122
        }
      },
      "source": [
        "# (3)번\n",
        "import torch\n",
        "\n",
        "x = torch.randn(N, D, requires_grad = True)\n",
        "y = torch.randn(N, D, requires_grad = True)\n",
        "z = torch.randn(N, D)\n",
        "\n",
        "a = x * y\n",
        "b = a + z\n",
        "c = torch.sum(b)\n",
        "\n",
        "c.backward()\n",
        "print(x.grad, y.grad)"
      ],
      "execution_count": null,
      "outputs": [
        {
          "output_type": "stream",
          "text": [
            "tensor([[ 1.3374, -1.3248,  1.6770, -0.7743],\n",
            "        [-0.0883, -1.5710, -1.1670,  0.7236],\n",
            "        [-0.2129, -1.1271, -0.2692, -0.6543]]) tensor([[-0.0871,  0.4612,  0.2433,  0.6188],\n",
            "        [ 0.6300,  0.4984, -0.0208, -1.3129],\n",
            "        [-1.4619, -0.0332, -0.3291, -0.2455]])\n"
          ],
          "name": "stdout"
        }
      ]
    },
    {
      "cell_type": "markdown",
      "metadata": {
        "id": "shzfTs3a3yGd"
      },
      "source": [
        "(4)번 정답\n",
        "- (2)번은 직접 역전파를 수행한 것이고 (3)은 pytorch의 framework을 통한 자동 미분을 이용"
      ]
    },
    {
      "cell_type": "markdown",
      "metadata": {
        "id": "-f5V5Tyt8TxK"
      },
      "source": [
        "# 10. MLP"
      ]
    },
    {
      "cell_type": "code",
      "metadata": {
        "id": "RjvuqhGORoxY"
      },
      "source": [
        "import torch\n",
        "import torch.nn as nn"
      ],
      "execution_count": null,
      "outputs": []
    },
    {
      "cell_type": "code",
      "metadata": {
        "id": "qujgL5eN3elY"
      },
      "source": [
        "# (1)번\n",
        "U1 = torch.tensor([[-0.3, 1.0, 1.2],\n",
        "                  [1.6, -1.0, -1.1]])\n",
        "U2 = torch.tensor([[1.0, 1.0, -1.0],\n",
        "                   [0.7, 0.5, 1.0]])\n",
        "U3 = torch.tensor([[0.5, -0.8, 1.0],\n",
        "                   [-0.1, 0.3, 0.4]])\n",
        "U4 = torch.tensor([[1.0, 0.1, -0.2],\n",
        "                   [-0.2, 1.3, -0.4]])"
      ],
      "execution_count": null,
      "outputs": []
    },
    {
      "cell_type": "code",
      "metadata": {
        "id": "4hS8kGKNSJrl",
        "outputId": "3bda2db2-7183-4b71-cdf8-b3196a7e5dc3",
        "colab": {
          "base_uri": "https://localhost:8080/",
          "height": 34
        }
      },
      "source": [
        "# (2)번\n",
        "sigmoid = nn.Sigmoid()\n",
        "X = torch.tensor([[1.0, 1.0, 0.0]])\n",
        "X_new = torch.tensor([[1.0]])\n",
        "\n",
        "h_1 = X.mm(U1.T)\n",
        "h_1 = sigmoid(h_1)\n",
        "h_1 = torch.cat((X_new, h_1), dim=1)\n",
        "\n",
        "h_2 = h_1.mm(U2.T)\n",
        "h_2 = sigmoid(h_2)\n",
        "h_2 = torch.cat((X_new, h_2), dim=1)\n",
        "\n",
        "h_3 = h_2.mm(U3.T)\n",
        "h_3 = sigmoid(h_3)\n",
        "h_3 = torch.cat((X_new, h_3), dim=1)\n",
        "\n",
        "output = h_3.mm(U4.T)\n",
        "output = sigmoid(output)\n",
        "\n",
        "result_sigmoid = output\n",
        "print(result_sigmoid)"
      ],
      "execution_count": null,
      "outputs": [
        {
          "output_type": "stream",
          "text": [
            "tensor([[0.7202, 0.6081]])\n"
          ],
          "name": "stdout"
        }
      ]
    },
    {
      "cell_type": "code",
      "metadata": {
        "id": "GrS-rFSTSbNg",
        "outputId": "ee844b45-56a5-46cc-e86e-1c535675459d",
        "colab": {
          "base_uri": "https://localhost:8080/",
          "height": 34
        }
      },
      "source": [
        "# (3)번\n",
        "relu = nn.ReLU()\n",
        "\n",
        "X = torch.tensor([[1.0, 1.0, 0.0]])\n",
        "X_new = torch.tensor([[1.0]])\n",
        "\n",
        "h_1 = X.mm(U1.T)\n",
        "h_1 = relu(h_1)\n",
        "h_1 = torch.cat((X_new, h_1), dim=1)\n",
        "\n",
        "h_2 = h_1.mm(U2.T)\n",
        "h_2 = relu(h_2)\n",
        "h_2 = torch.cat((X_new, h_2), dim=1)\n",
        "\n",
        "h_3 = h_2.mm(U3.T)\n",
        "h_3 = relu(h_3)\n",
        "h_3 = torch.cat((X_new, h_3), dim=1)\n",
        "\n",
        "output = h_3.mm(U4.T)\n",
        "output = relu(output)\n",
        "s\n",
        "result_relu = output\n",
        "print(result_relu)"
      ],
      "execution_count": null,
      "outputs": [
        {
          "output_type": "stream",
          "text": [
            "tensor([[0.9490, 1.0950]])\n"
          ],
          "name": "stdout"
        }
      ]
    },
    {
      "cell_type": "code",
      "metadata": {
        "id": "GGoYm-OSVYeN",
        "outputId": "2134fcbc-2579-461e-c018-cc55f74b6b72",
        "colab": {
          "base_uri": "https://localhost:8080/",
          "height": 51
        }
      },
      "source": [
        "# 4번\n",
        "criterion = nn.MSELoss()\n",
        "label = torch.tensor([[0.0, 1.0]])\n",
        "loss = criterion(result_relu, label)\n",
        "print('Previous loss: ', loss)\n",
        "\n",
        "U3 = torch.tensor([[0.5, -0.8, 0.9],\n",
        "                   [-0.1, 0.3, 0.4]])\n",
        "\n",
        "relu = nn.ReLU()\n",
        "\n",
        "X = torch.tensor([[1.0, 1.0, 0.0]])\n",
        "X_new = torch.tensor([[1.0]])\n",
        "\n",
        "h_1 = X.mm(U1.T)\n",
        "h_1 = relu(h_1)\n",
        "h_1 = torch.cat((X_new, h_1), dim=1)\n",
        "\n",
        "h_2 = h_1.mm(U2.T)\n",
        "h_2 = relu(h_2)\n",
        "h_2 = torch.cat((X_new, h_2), dim=1)\n",
        "\n",
        "h_3 = h_2.mm(U3.T)\n",
        "h_3 = relu(h_3)\n",
        "h_3 = torch.cat((X_new, h_3), dim=1)\n",
        "\n",
        "output = h_3.mm(U4.T)\n",
        "output = relu(output)\n",
        "\n",
        "loss = criterion(output, label)\n",
        "print('Current loss: ', loss)\n"
      ],
      "execution_count": null,
      "outputs": [
        {
          "output_type": "stream",
          "text": [
            "Previous loss:  tensor(0.4548)\n",
            "Current loss:  tensor(0.4419)\n"
          ],
          "name": "stdout"
        }
      ]
    },
    {
      "cell_type": "markdown",
      "metadata": {
        "id": "MS00tcbCXXKG"
      },
      "source": [
        "- 가중치를 갱신했을 때, 오류가 감소했음을 확인"
      ]
    },
    {
      "cell_type": "code",
      "metadata": {
        "id": "jT8i9bgwWZMR"
      },
      "source": [
        ""
      ],
      "execution_count": null,
      "outputs": []
    }
  ]
}