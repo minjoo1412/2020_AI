{
  "nbformat": 4,
  "nbformat_minor": 0,
  "metadata": {
    "colab": {
      "name": "Untitled0.ipynb",
      "provenance": [],
      "collapsed_sections": [],
      "authorship_tag": "ABX9TyO2r3eZxamYJP89DRk5AMXs",
      "include_colab_link": true
    },
    "kernelspec": {
      "name": "python3",
      "display_name": "Python 3"
    },
    "accelerator": "GPU"
  },
  "cells": [
    {
      "cell_type": "markdown",
      "metadata": {
        "id": "view-in-github",
        "colab_type": "text"
      },
      "source": [
        "<a href=\"https://colab.research.google.com/github/minjoo1412/2020_AI/blob/master/Untitled0.ipynb\" target=\"_parent\"><img src=\"https://colab.research.google.com/assets/colab-badge.svg\" alt=\"Open In Colab\"/></a>"
      ]
    },
    {
      "cell_type": "code",
      "metadata": {
        "id": "9WKnCiRFfoGH",
        "outputId": "bffc730d-bf8a-4b38-fd7c-9f4ec48f4685",
        "colab": {
          "base_uri": "https://localhost:8080/",
          "height": 323
        }
      },
      "source": [
        "from __future__ import print_function\n",
        "import torch\n",
        "\n",
        "x = torch.rand(5,4)                            \n",
        "\n",
        "print(\"1번 : \",x.shape)\n",
        "print(\"2번 : \",x[2])\n",
        "print(\"3번 : \",x.view(2,10))\n",
        "\n",
        "print(\"4번 : \")\n",
        "if torch.cuda.is_available():\n",
        "    device = torch.device(\"cuda\")      \n",
        "    y = torch.ones_like(x, device=device)  \n",
        "    x = x.to(device)                     \n",
        "    z = x + y\n",
        "    print(z)\n",
        "    print(z.to(\"cpu\", torch.double)) "
      ],
      "execution_count": null,
      "outputs": [
        {
          "output_type": "stream",
          "text": [
            "1번 :  torch.Size([5, 4])\n",
            "2번 :  tensor([0.8340, 0.4189, 0.9040, 0.4675])\n",
            "3번 :  tensor([[0.6038, 0.6828, 0.3600, 0.1183, 0.8941, 0.6932, 0.2830, 0.6652, 0.8340,\n",
            "         0.4189],\n",
            "        [0.9040, 0.4675, 0.9668, 0.2308, 0.4293, 0.3490, 0.9479, 0.4471, 0.4893,\n",
            "         0.3182]])\n",
            "4번 : \n",
            "tensor([[1.6038, 1.6828, 1.3600, 1.1183],\n",
            "        [1.8941, 1.6932, 1.2830, 1.6652],\n",
            "        [1.8340, 1.4189, 1.9040, 1.4675],\n",
            "        [1.9668, 1.2308, 1.4293, 1.3490],\n",
            "        [1.9479, 1.4471, 1.4893, 1.3182]], device='cuda:0')\n",
            "tensor([[1.6038, 1.6828, 1.3600, 1.1183],\n",
            "        [1.8941, 1.6932, 1.2830, 1.6652],\n",
            "        [1.8340, 1.4189, 1.9040, 1.4675],\n",
            "        [1.9668, 1.2308, 1.4293, 1.3490],\n",
            "        [1.9479, 1.4471, 1.4893, 1.3182]], dtype=torch.float64)\n"
          ],
          "name": "stdout"
        }
      ]
    }
  ]
}