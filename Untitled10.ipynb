{
  "nbformat": 4,
  "nbformat_minor": 0,
  "metadata": {
    "colab": {
      "name": "Untitled10.ipynb",
      "provenance": [],
      "authorship_tag": "ABX9TyNcufYHVBj8cITtsdpSM0bt",
      "include_colab_link": true
    },
    "kernelspec": {
      "name": "python3",
      "display_name": "Python 3"
    },
    "language_info": {
      "name": "python"
    }
  },
  "cells": [
    {
      "cell_type": "markdown",
      "metadata": {
        "id": "view-in-github",
        "colab_type": "text"
      },
      "source": [
        "<a href=\"https://colab.research.google.com/github/minjoo1412/2020_AI/blob/master/Untitled10.ipynb\" target=\"_parent\"><img src=\"https://colab.research.google.com/assets/colab-badge.svg\" alt=\"Open In Colab\"/></a>"
      ]
    },
    {
      "cell_type": "code",
      "metadata": {
        "colab": {
          "base_uri": "https://localhost:8080/"
        },
        "id": "2uEKIrBT7EQj",
        "outputId": "2c1b7808-8306-41dd-8225-505a4521e4ee"
      },
      "source": [
        "import random\n",
        "\n",
        "\n",
        "def final_random(): #함수 선언\n",
        "  result = 0 #리턴값\n",
        "\n",
        "  choice = random.choices(range(1,4),weights= [1,2,1]) #random.choices로 확률 구현\n",
        "  if choice == [1]: #25%확률\n",
        "    result = random.uniform(0,1)\n",
        "  elif choice == [2] : #50%확률\n",
        "    result = random.uniform(1,2)\n",
        "  else: #25%확률\n",
        "    result = random.uniform(2,3)\n",
        "  return result\n",
        "\n",
        "print(final_random())"
      ],
      "execution_count": 127,
      "outputs": [
        {
          "output_type": "stream",
          "text": [
            "1.1362720060540945\n"
          ],
          "name": "stdout"
        }
      ]
    },
    {
      "cell_type": "code",
      "metadata": {
        "colab": {
          "base_uri": "https://localhost:8080/",
          "height": 333
        },
        "id": "mctibdRk9ZJW",
        "outputId": "c9b4494c-b47a-43a4-ffc5-1a7b4005f059"
      },
      "source": [
        "import random\n",
        "import numpy as np\n",
        "import matplotlib.pyplot as plt\n",
        "\n",
        "\n",
        "choice = random.randint(0,4)\n",
        "\n",
        "histogram = [0 for i in range(401)]\n",
        "\n",
        "for trial in range(50000):\n",
        "  x = 0\n",
        "  for n in range(50):\n",
        "    choice = random.randint(0,4)\n",
        "    if choice == 0:\n",
        "      s = -4\n",
        "    elif choice == 1:\n",
        "      s = 0\n",
        "    elif choice == 2:\n",
        "      s = 1\n",
        "    elif choice == 3:\n",
        "      s = 2\n",
        "    else:\n",
        "      s = 4\n",
        "    x += s\n",
        "  histogram[x+200] += 1\n",
        "\n",
        "print(histogram)\n",
        "x = np.arange(-200,201)\n",
        "y = histogram\n",
        "plt.plot(x,y, marker = '*',color = 'b')\n",
        "\n",
        "plt.title('histogram of random walking')\n",
        "plt.xlabel('position')\n",
        "plt.ylabel('count')\n",
        "\n",
        "\n",
        "plt.show()"
      ],
      "execution_count": 78,
      "outputs": [
        {
          "output_type": "stream",
          "text": [
            "[0, 0, 0, 0, 0, 0, 0, 0, 0, 0, 0, 0, 0, 0, 0, 0, 0, 0, 0, 0, 0, 0, 0, 0, 0, 0, 0, 0, 0, 0, 0, 0, 0, 0, 0, 0, 0, 0, 0, 0, 0, 0, 0, 0, 0, 0, 0, 0, 0, 0, 0, 0, 0, 0, 0, 0, 0, 0, 0, 0, 0, 0, 0, 0, 0, 0, 0, 0, 0, 0, 0, 0, 0, 0, 0, 0, 0, 0, 0, 0, 0, 0, 0, 0, 0, 0, 0, 0, 0, 0, 0, 0, 0, 0, 0, 0, 0, 0, 0, 0, 0, 0, 0, 0, 0, 0, 0, 0, 0, 0, 0, 0, 0, 0, 0, 0, 0, 0, 0, 0, 0, 0, 0, 0, 0, 0, 0, 0, 0, 0, 0, 0, 0, 0, 0, 0, 0, 0, 0, 0, 0, 0, 0, 0, 0, 0, 0, 0, 0, 0, 0, 1, 0, 0, 1, 1, 1, 1, 0, 4, 3, 2, 3, 3, 2, 6, 7, 4, 3, 8, 5, 4, 7, 15, 17, 17, 30, 27, 33, 29, 28, 46, 38, 48, 58, 64, 76, 86, 77, 103, 118, 132, 107, 150, 183, 197, 211, 228, 241, 320, 282, 304, 350, 385, 395, 445, 465, 505, 529, 523, 606, 622, 715, 718, 701, 740, 799, 802, 813, 823, 919, 870, 951, 984, 929, 1020, 1012, 1077, 1094, 1095, 1053, 1046, 1072, 1010, 1030, 1039, 1066, 1089, 918, 941, 908, 846, 923, 853, 879, 784, 773, 788, 655, 681, 641, 557, 489, 512, 482, 426, 403, 358, 344, 359, 305, 281, 265, 251, 208, 179, 191, 156, 141, 123, 102, 86, 80, 61, 54, 48, 35, 42, 31, 37, 37, 33, 23, 18, 9, 12, 7, 9, 7, 3, 1, 5, 5, 1, 3, 1, 1, 0, 0, 0, 2, 2, 1, 1, 0, 0, 0, 0, 0, 0, 0, 0, 0, 0, 0, 0, 0, 0, 0, 0, 0, 0, 0, 0, 0, 0, 0, 0, 0, 0, 0, 0, 0, 0, 0, 0, 0, 0, 0, 0, 0, 0, 0, 0, 0, 0, 0, 0, 0, 0, 0, 0, 0, 0, 0, 0, 0, 0, 0, 0, 0, 0, 0, 0, 0, 0, 0, 0, 0, 0, 0, 0, 0, 0, 0, 0, 0, 0, 0, 0, 0, 0, 0, 0, 0, 0, 0, 0, 0, 0, 0, 0, 0, 0, 0, 0, 0, 0, 0, 0, 0]\n"
          ],
          "name": "stdout"
        },
        {
          "output_type": "display_data",
          "data": {
            "image/png": "[encoded data removed]",
            "text/plain": [
              "<Figure size 432x288 with 1 Axes>"
            ]
          },
          "metadata": {
            "tags": [],
            "needs_background": "light"
          }
        }
      ]
    },
    {
      "cell_type": "code",
      "metadata": {
        "colab": {
          "base_uri": "https://localhost:8080/",
          "height": 295
        },
        "id": "Hq5FWs7VB6zP",
        "outputId": "f4a64d08-d93b-466e-bbd2-82f8816842ad"
      },
      "source": [
        "import math\n",
        "import numpy as np\n",
        "import matplotlib.pyplot as plt\n",
        "\n",
        "def xexp(arg1, arg2):\n",
        " \n",
        "  if(arg2 < 0):\n",
        "    return 0\n",
        "\n",
        "  sum = 0\n",
        "  sum = ((arg2+1)/(math.factorial(arg2))) * ((arg1)**(arg2)) + xexp(arg1, arg2-1)\n",
        "\n",
        "  return sum\n",
        "\n",
        "x_value = np.arange(1,31)\n",
        "real_value = np.full(30, (10.0+1)*((math.e)**10.0))\n",
        "cal_value = np.zeros(30)\n",
        "\n",
        "for i in range(1,31):\n",
        "  cal_value[i-1] = xexp(10.0,i)\n",
        "\n",
        "\n",
        "plt.scatter(x_value,real_value,color = 'b')\n",
        "plt.scatter(x_value,cal_value,color = 'r')\n",
        "\n",
        "plt.title('xexp(arg1,arg2)')\n",
        "plt.xlabel('n')\n",
        "plt.ylabel('value')\n",
        "plt.legend(['real_value', 'cal_value'])\n",
        "\n",
        "plt.show()\n"
      ],
      "execution_count": 102,
      "outputs": [
        {
          "output_type": "display_data",
          "data": {
            "image/png": "[encoded data removed]",
            "text/plain": [
              "<Figure size 432x288 with 1 Axes>"
            ]
          },
          "metadata": {
            "tags": [],
            "needs_background": "light"
          }
        }
      ]
    },
    {
      "cell_type": "code",
      "metadata": {
        "id": "swFIYbS9CJES"
      },
      "source": [
        ""
      ],
      "execution_count": null,
      "outputs": []
    }
  ]
}